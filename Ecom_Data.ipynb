{
  "nbformat": 4,
  "nbformat_minor": 0,
  "metadata": {
    "colab": {
      "provenance": [],
      "mount_file_id": "1XsMRZh9rV_ZDDX0ZYOVOr1LlxRTl3RVQ",
      "authorship_tag": "ABX9TyPz8dCz5Jgtp7nnbiFlDxQ9",
      "include_colab_link": true
    },
    "kernelspec": {
      "name": "python3",
      "display_name": "Python 3"
    },
    "language_info": {
      "name": "python"
    }
  },
  "cells": [
    {
      "cell_type": "markdown",
      "metadata": {
        "id": "view-in-github",
        "colab_type": "text"
      },
      "source": [
        "<a href=\"https://colab.research.google.com/github/zain4cs/Banking-Customer-Churn-Prediction/blob/main/Ecom_Data.ipynb\" target=\"_parent\"><img src=\"https://colab.research.google.com/assets/colab-badge.svg\" alt=\"Open In Colab\"/></a>"
      ]
    },
    {
      "cell_type": "code",
      "execution_count": 4,
      "metadata": {
        "id": "jae4Iszu5rg1"
      },
      "outputs": [],
      "source": [
        "import pandas as pd\n",
        "import numpy as no\n",
        "import matplotlib.pyplot as plt\n",
        "import seaborn as sns\n",
        "import numpy as np"
      ]
    },
    {
      "cell_type": "code",
      "source": [
        "df = pd.read_csv(\"/content/drive/MyDrive/Datasets/Pakistan Largest Ecommerce Dataset.csv\")\n",
        "df.head()"
      ],
      "metadata": {
        "colab": {
          "base_uri": "https://localhost:8080/",
          "height": 448
        },
        "id": "d4xMDjrB55ms",
        "outputId": "abd33251-8d09-443c-dfb5-5354fb20b2d7"
      },
      "execution_count": 5,
      "outputs": [
        {
          "output_type": "stream",
          "name": "stderr",
          "text": [
            "/tmp/ipython-input-4226985986.py:1: DtypeWarning: Columns (1,2,3,7,8,9,11,12,13,14,17,18,19) have mixed types. Specify dtype option on import or set low_memory=False.\n",
            "  df = pd.read_csv(\"/content/drive/MyDrive/Datasets/Pakistan Largest Ecommerce Dataset.csv\")\n"
          ]
        },
        {
          "output_type": "execute_result",
          "data": {
            "text/plain": [
              "    item_id          status created_at  \\\n",
              "0  211131.0        complete   7/1/2016   \n",
              "1  211133.0        canceled   7/1/2016   \n",
              "2  211134.0        canceled   7/1/2016   \n",
              "3  211135.0        complete   7/1/2016   \n",
              "4  211136.0  order_refunded   7/1/2016   \n",
              "\n",
              "                                                 sku   price  qty_ordered  \\\n",
              "0                                  kreations_YI 06-L  1950.0          1.0   \n",
              "1  kcc_Buy 2 Frey Air Freshener & Get 1 Kasual Bo...   240.0          1.0   \n",
              "2                                 Ego_UP0017-999-MR0  2450.0          1.0   \n",
              "3                                     kcc_krone deal   360.0          1.0   \n",
              "4                                        BK7010400AG   555.0          2.0   \n",
              "\n",
              "   grand_total increment_id    category_name_1 sales_commission_code  ...  \\\n",
              "0       1950.0    100147443    Women's Fashion                    \\N  ...   \n",
              "1        240.0    100147444  Beauty & Grooming                    \\N  ...   \n",
              "2       2450.0    100147445    Women's Fashion                    \\N  ...   \n",
              "3         60.0    100147446  Beauty & Grooming           R-FSD-52352  ...   \n",
              "4       1110.0    100147447            Soghaat                    \\N  ...   \n",
              "\n",
              "   Month Customer Since     M-Y    FY Customer ID  Unnamed: 21  Unnamed: 22  \\\n",
              "0    7.0         2016-7  7-2016  FY17         1.0          NaN          NaN   \n",
              "1    7.0         2016-7  7-2016  FY17         2.0          NaN          NaN   \n",
              "2    7.0         2016-7  7-2016  FY17         3.0          NaN          NaN   \n",
              "3    7.0         2016-7  7-2016  FY17         4.0          NaN          NaN   \n",
              "4    7.0         2016-7  7-2016  FY17         5.0          NaN          NaN   \n",
              "\n",
              "  Unnamed: 23 Unnamed: 24 Unnamed: 25  \n",
              "0         NaN         NaN         NaN  \n",
              "1         NaN         NaN         NaN  \n",
              "2         NaN         NaN         NaN  \n",
              "3         NaN         NaN         NaN  \n",
              "4         NaN         NaN         NaN  \n",
              "\n",
              "[5 rows x 26 columns]"
            ],
            "text/html": [
              "\n",
              "  <div id=\"df-6c6fa233-1d29-4562-8272-589b892c8719\" class=\"colab-df-container\">\n",
              "    <div>\n",
              "<style scoped>\n",
              "    .dataframe tbody tr th:only-of-type {\n",
              "        vertical-align: middle;\n",
              "    }\n",
              "\n",
              "    .dataframe tbody tr th {\n",
              "        vertical-align: top;\n",
              "    }\n",
              "\n",
              "    .dataframe thead th {\n",
              "        text-align: right;\n",
              "    }\n",
              "</style>\n",
              "<table border=\"1\" class=\"dataframe\">\n",
              "  <thead>\n",
              "    <tr style=\"text-align: right;\">\n",
              "      <th></th>\n",
              "      <th>item_id</th>\n",
              "      <th>status</th>\n",
              "      <th>created_at</th>\n",
              "      <th>sku</th>\n",
              "      <th>price</th>\n",
              "      <th>qty_ordered</th>\n",
              "      <th>grand_total</th>\n",
              "      <th>increment_id</th>\n",
              "      <th>category_name_1</th>\n",
              "      <th>sales_commission_code</th>\n",
              "      <th>...</th>\n",
              "      <th>Month</th>\n",
              "      <th>Customer Since</th>\n",
              "      <th>M-Y</th>\n",
              "      <th>FY</th>\n",
              "      <th>Customer ID</th>\n",
              "      <th>Unnamed: 21</th>\n",
              "      <th>Unnamed: 22</th>\n",
              "      <th>Unnamed: 23</th>\n",
              "      <th>Unnamed: 24</th>\n",
              "      <th>Unnamed: 25</th>\n",
              "    </tr>\n",
              "  </thead>\n",
              "  <tbody>\n",
              "    <tr>\n",
              "      <th>0</th>\n",
              "      <td>211131.0</td>\n",
              "      <td>complete</td>\n",
              "      <td>7/1/2016</td>\n",
              "      <td>kreations_YI 06-L</td>\n",
              "      <td>1950.0</td>\n",
              "      <td>1.0</td>\n",
              "      <td>1950.0</td>\n",
              "      <td>100147443</td>\n",
              "      <td>Women's Fashion</td>\n",
              "      <td>\\N</td>\n",
              "      <td>...</td>\n",
              "      <td>7.0</td>\n",
              "      <td>2016-7</td>\n",
              "      <td>7-2016</td>\n",
              "      <td>FY17</td>\n",
              "      <td>1.0</td>\n",
              "      <td>NaN</td>\n",
              "      <td>NaN</td>\n",
              "      <td>NaN</td>\n",
              "      <td>NaN</td>\n",
              "      <td>NaN</td>\n",
              "    </tr>\n",
              "    <tr>\n",
              "      <th>1</th>\n",
              "      <td>211133.0</td>\n",
              "      <td>canceled</td>\n",
              "      <td>7/1/2016</td>\n",
              "      <td>kcc_Buy 2 Frey Air Freshener &amp; Get 1 Kasual Bo...</td>\n",
              "      <td>240.0</td>\n",
              "      <td>1.0</td>\n",
              "      <td>240.0</td>\n",
              "      <td>100147444</td>\n",
              "      <td>Beauty &amp; Grooming</td>\n",
              "      <td>\\N</td>\n",
              "      <td>...</td>\n",
              "      <td>7.0</td>\n",
              "      <td>2016-7</td>\n",
              "      <td>7-2016</td>\n",
              "      <td>FY17</td>\n",
              "      <td>2.0</td>\n",
              "      <td>NaN</td>\n",
              "      <td>NaN</td>\n",
              "      <td>NaN</td>\n",
              "      <td>NaN</td>\n",
              "      <td>NaN</td>\n",
              "    </tr>\n",
              "    <tr>\n",
              "      <th>2</th>\n",
              "      <td>211134.0</td>\n",
              "      <td>canceled</td>\n",
              "      <td>7/1/2016</td>\n",
              "      <td>Ego_UP0017-999-MR0</td>\n",
              "      <td>2450.0</td>\n",
              "      <td>1.0</td>\n",
              "      <td>2450.0</td>\n",
              "      <td>100147445</td>\n",
              "      <td>Women's Fashion</td>\n",
              "      <td>\\N</td>\n",
              "      <td>...</td>\n",
              "      <td>7.0</td>\n",
              "      <td>2016-7</td>\n",
              "      <td>7-2016</td>\n",
              "      <td>FY17</td>\n",
              "      <td>3.0</td>\n",
              "      <td>NaN</td>\n",
              "      <td>NaN</td>\n",
              "      <td>NaN</td>\n",
              "      <td>NaN</td>\n",
              "      <td>NaN</td>\n",
              "    </tr>\n",
              "    <tr>\n",
              "      <th>3</th>\n",
              "      <td>211135.0</td>\n",
              "      <td>complete</td>\n",
              "      <td>7/1/2016</td>\n",
              "      <td>kcc_krone deal</td>\n",
              "      <td>360.0</td>\n",
              "      <td>1.0</td>\n",
              "      <td>60.0</td>\n",
              "      <td>100147446</td>\n",
              "      <td>Beauty &amp; Grooming</td>\n",
              "      <td>R-FSD-52352</td>\n",
              "      <td>...</td>\n",
              "      <td>7.0</td>\n",
              "      <td>2016-7</td>\n",
              "      <td>7-2016</td>\n",
              "      <td>FY17</td>\n",
              "      <td>4.0</td>\n",
              "      <td>NaN</td>\n",
              "      <td>NaN</td>\n",
              "      <td>NaN</td>\n",
              "      <td>NaN</td>\n",
              "      <td>NaN</td>\n",
              "    </tr>\n",
              "    <tr>\n",
              "      <th>4</th>\n",
              "      <td>211136.0</td>\n",
              "      <td>order_refunded</td>\n",
              "      <td>7/1/2016</td>\n",
              "      <td>BK7010400AG</td>\n",
              "      <td>555.0</td>\n",
              "      <td>2.0</td>\n",
              "      <td>1110.0</td>\n",
              "      <td>100147447</td>\n",
              "      <td>Soghaat</td>\n",
              "      <td>\\N</td>\n",
              "      <td>...</td>\n",
              "      <td>7.0</td>\n",
              "      <td>2016-7</td>\n",
              "      <td>7-2016</td>\n",
              "      <td>FY17</td>\n",
              "      <td>5.0</td>\n",
              "      <td>NaN</td>\n",
              "      <td>NaN</td>\n",
              "      <td>NaN</td>\n",
              "      <td>NaN</td>\n",
              "      <td>NaN</td>\n",
              "    </tr>\n",
              "  </tbody>\n",
              "</table>\n",
              "<p>5 rows × 26 columns</p>\n",
              "</div>\n",
              "    <div class=\"colab-df-buttons\">\n",
              "\n",
              "  <div class=\"colab-df-container\">\n",
              "    <button class=\"colab-df-convert\" onclick=\"convertToInteractive('df-6c6fa233-1d29-4562-8272-589b892c8719')\"\n",
              "            title=\"Convert this dataframe to an interactive table.\"\n",
              "            style=\"display:none;\">\n",
              "\n",
              "  <svg xmlns=\"http://www.w3.org/2000/svg\" height=\"24px\" viewBox=\"0 -960 960 960\">\n",
              "    <path d=\"M120-120v-720h720v720H120Zm60-500h600v-160H180v160Zm220 220h160v-160H400v160Zm0 220h160v-160H400v160ZM180-400h160v-160H180v160Zm440 0h160v-160H620v160ZM180-180h160v-160H180v160Zm440 0h160v-160H620v160Z\"/>\n",
              "  </svg>\n",
              "    </button>\n",
              "\n",
              "  <style>\n",
              "    .colab-df-container {\n",
              "      display:flex;\n",
              "      gap: 12px;\n",
              "    }\n",
              "\n",
              "    .colab-df-convert {\n",
              "      background-color: #E8F0FE;\n",
              "      border: none;\n",
              "      border-radius: 50%;\n",
              "      cursor: pointer;\n",
              "      display: none;\n",
              "      fill: #1967D2;\n",
              "      height: 32px;\n",
              "      padding: 0 0 0 0;\n",
              "      width: 32px;\n",
              "    }\n",
              "\n",
              "    .colab-df-convert:hover {\n",
              "      background-color: #E2EBFA;\n",
              "      box-shadow: 0px 1px 2px rgba(60, 64, 67, 0.3), 0px 1px 3px 1px rgba(60, 64, 67, 0.15);\n",
              "      fill: #174EA6;\n",
              "    }\n",
              "\n",
              "    .colab-df-buttons div {\n",
              "      margin-bottom: 4px;\n",
              "    }\n",
              "\n",
              "    [theme=dark] .colab-df-convert {\n",
              "      background-color: #3B4455;\n",
              "      fill: #D2E3FC;\n",
              "    }\n",
              "\n",
              "    [theme=dark] .colab-df-convert:hover {\n",
              "      background-color: #434B5C;\n",
              "      box-shadow: 0px 1px 3px 1px rgba(0, 0, 0, 0.15);\n",
              "      filter: drop-shadow(0px 1px 2px rgba(0, 0, 0, 0.3));\n",
              "      fill: #FFFFFF;\n",
              "    }\n",
              "  </style>\n",
              "\n",
              "    <script>\n",
              "      const buttonEl =\n",
              "        document.querySelector('#df-6c6fa233-1d29-4562-8272-589b892c8719 button.colab-df-convert');\n",
              "      buttonEl.style.display =\n",
              "        google.colab.kernel.accessAllowed ? 'block' : 'none';\n",
              "\n",
              "      async function convertToInteractive(key) {\n",
              "        const element = document.querySelector('#df-6c6fa233-1d29-4562-8272-589b892c8719');\n",
              "        const dataTable =\n",
              "          await google.colab.kernel.invokeFunction('convertToInteractive',\n",
              "                                                    [key], {});\n",
              "        if (!dataTable) return;\n",
              "\n",
              "        const docLinkHtml = 'Like what you see? Visit the ' +\n",
              "          '<a target=\"_blank\" href=https://colab.research.google.com/notebooks/data_table.ipynb>data table notebook</a>'\n",
              "          + ' to learn more about interactive tables.';\n",
              "        element.innerHTML = '';\n",
              "        dataTable['output_type'] = 'display_data';\n",
              "        await google.colab.output.renderOutput(dataTable, element);\n",
              "        const docLink = document.createElement('div');\n",
              "        docLink.innerHTML = docLinkHtml;\n",
              "        element.appendChild(docLink);\n",
              "      }\n",
              "    </script>\n",
              "  </div>\n",
              "\n",
              "\n",
              "    <div id=\"df-bf73a437-1020-4ef0-bd45-0fdbb312d4aa\">\n",
              "      <button class=\"colab-df-quickchart\" onclick=\"quickchart('df-bf73a437-1020-4ef0-bd45-0fdbb312d4aa')\"\n",
              "                title=\"Suggest charts\"\n",
              "                style=\"display:none;\">\n",
              "\n",
              "<svg xmlns=\"http://www.w3.org/2000/svg\" height=\"24px\"viewBox=\"0 0 24 24\"\n",
              "     width=\"24px\">\n",
              "    <g>\n",
              "        <path d=\"M19 3H5c-1.1 0-2 .9-2 2v14c0 1.1.9 2 2 2h14c1.1 0 2-.9 2-2V5c0-1.1-.9-2-2-2zM9 17H7v-7h2v7zm4 0h-2V7h2v10zm4 0h-2v-4h2v4z\"/>\n",
              "    </g>\n",
              "</svg>\n",
              "      </button>\n",
              "\n",
              "<style>\n",
              "  .colab-df-quickchart {\n",
              "      --bg-color: #E8F0FE;\n",
              "      --fill-color: #1967D2;\n",
              "      --hover-bg-color: #E2EBFA;\n",
              "      --hover-fill-color: #174EA6;\n",
              "      --disabled-fill-color: #AAA;\n",
              "      --disabled-bg-color: #DDD;\n",
              "  }\n",
              "\n",
              "  [theme=dark] .colab-df-quickchart {\n",
              "      --bg-color: #3B4455;\n",
              "      --fill-color: #D2E3FC;\n",
              "      --hover-bg-color: #434B5C;\n",
              "      --hover-fill-color: #FFFFFF;\n",
              "      --disabled-bg-color: #3B4455;\n",
              "      --disabled-fill-color: #666;\n",
              "  }\n",
              "\n",
              "  .colab-df-quickchart {\n",
              "    background-color: var(--bg-color);\n",
              "    border: none;\n",
              "    border-radius: 50%;\n",
              "    cursor: pointer;\n",
              "    display: none;\n",
              "    fill: var(--fill-color);\n",
              "    height: 32px;\n",
              "    padding: 0;\n",
              "    width: 32px;\n",
              "  }\n",
              "\n",
              "  .colab-df-quickchart:hover {\n",
              "    background-color: var(--hover-bg-color);\n",
              "    box-shadow: 0 1px 2px rgba(60, 64, 67, 0.3), 0 1px 3px 1px rgba(60, 64, 67, 0.15);\n",
              "    fill: var(--button-hover-fill-color);\n",
              "  }\n",
              "\n",
              "  .colab-df-quickchart-complete:disabled,\n",
              "  .colab-df-quickchart-complete:disabled:hover {\n",
              "    background-color: var(--disabled-bg-color);\n",
              "    fill: var(--disabled-fill-color);\n",
              "    box-shadow: none;\n",
              "  }\n",
              "\n",
              "  .colab-df-spinner {\n",
              "    border: 2px solid var(--fill-color);\n",
              "    border-color: transparent;\n",
              "    border-bottom-color: var(--fill-color);\n",
              "    animation:\n",
              "      spin 1s steps(1) infinite;\n",
              "  }\n",
              "\n",
              "  @keyframes spin {\n",
              "    0% {\n",
              "      border-color: transparent;\n",
              "      border-bottom-color: var(--fill-color);\n",
              "      border-left-color: var(--fill-color);\n",
              "    }\n",
              "    20% {\n",
              "      border-color: transparent;\n",
              "      border-left-color: var(--fill-color);\n",
              "      border-top-color: var(--fill-color);\n",
              "    }\n",
              "    30% {\n",
              "      border-color: transparent;\n",
              "      border-left-color: var(--fill-color);\n",
              "      border-top-color: var(--fill-color);\n",
              "      border-right-color: var(--fill-color);\n",
              "    }\n",
              "    40% {\n",
              "      border-color: transparent;\n",
              "      border-right-color: var(--fill-color);\n",
              "      border-top-color: var(--fill-color);\n",
              "    }\n",
              "    60% {\n",
              "      border-color: transparent;\n",
              "      border-right-color: var(--fill-color);\n",
              "    }\n",
              "    80% {\n",
              "      border-color: transparent;\n",
              "      border-right-color: var(--fill-color);\n",
              "      border-bottom-color: var(--fill-color);\n",
              "    }\n",
              "    90% {\n",
              "      border-color: transparent;\n",
              "      border-bottom-color: var(--fill-color);\n",
              "    }\n",
              "  }\n",
              "</style>\n",
              "\n",
              "      <script>\n",
              "        async function quickchart(key) {\n",
              "          const quickchartButtonEl =\n",
              "            document.querySelector('#' + key + ' button');\n",
              "          quickchartButtonEl.disabled = true;  // To prevent multiple clicks.\n",
              "          quickchartButtonEl.classList.add('colab-df-spinner');\n",
              "          try {\n",
              "            const charts = await google.colab.kernel.invokeFunction(\n",
              "                'suggestCharts', [key], {});\n",
              "          } catch (error) {\n",
              "            console.error('Error during call to suggestCharts:', error);\n",
              "          }\n",
              "          quickchartButtonEl.classList.remove('colab-df-spinner');\n",
              "          quickchartButtonEl.classList.add('colab-df-quickchart-complete');\n",
              "        }\n",
              "        (() => {\n",
              "          let quickchartButtonEl =\n",
              "            document.querySelector('#df-bf73a437-1020-4ef0-bd45-0fdbb312d4aa button');\n",
              "          quickchartButtonEl.style.display =\n",
              "            google.colab.kernel.accessAllowed ? 'block' : 'none';\n",
              "        })();\n",
              "      </script>\n",
              "    </div>\n",
              "\n",
              "    </div>\n",
              "  </div>\n"
            ],
            "application/vnd.google.colaboratory.intrinsic+json": {
              "type": "dataframe",
              "variable_name": "df"
            }
          },
          "metadata": {},
          "execution_count": 5
        }
      ]
    },
    {
      "cell_type": "code",
      "source": [
        "df.info()"
      ],
      "metadata": {
        "colab": {
          "base_uri": "https://localhost:8080/"
        },
        "id": "VTO5K94p6FVY",
        "outputId": "d93a8fa1-867f-41af-9aaa-c5ab73f8061d"
      },
      "execution_count": 6,
      "outputs": [
        {
          "output_type": "stream",
          "name": "stdout",
          "text": [
            "<class 'pandas.core.frame.DataFrame'>\n",
            "RangeIndex: 1048575 entries, 0 to 1048574\n",
            "Data columns (total 26 columns):\n",
            " #   Column                 Non-Null Count   Dtype  \n",
            "---  ------                 --------------   -----  \n",
            " 0   item_id                584524 non-null  float64\n",
            " 1   status                 584509 non-null  object \n",
            " 2   created_at             584524 non-null  object \n",
            " 3   sku                    584504 non-null  object \n",
            " 4   price                  584524 non-null  float64\n",
            " 5   qty_ordered            584524 non-null  float64\n",
            " 6   grand_total            584524 non-null  float64\n",
            " 7   increment_id           584524 non-null  object \n",
            " 8   category_name_1        584360 non-null  object \n",
            " 9   sales_commission_code  447346 non-null  object \n",
            " 10  discount_amount        584524 non-null  float64\n",
            " 11  payment_method         584524 non-null  object \n",
            " 12  Working Date           584524 non-null  object \n",
            " 13  BI Status              584524 non-null  object \n",
            " 14   MV                    584524 non-null  object \n",
            " 15  Year                   584524 non-null  float64\n",
            " 16  Month                  584524 non-null  float64\n",
            " 17  Customer Since         584513 non-null  object \n",
            " 18  M-Y                    584524 non-null  object \n",
            " 19  FY                     584524 non-null  object \n",
            " 20  Customer ID            584513 non-null  float64\n",
            " 21  Unnamed: 21            0 non-null       float64\n",
            " 22  Unnamed: 22            0 non-null       float64\n",
            " 23  Unnamed: 23            0 non-null       float64\n",
            " 24  Unnamed: 24            0 non-null       float64\n",
            " 25  Unnamed: 25            0 non-null       float64\n",
            "dtypes: float64(13), object(13)\n",
            "memory usage: 208.0+ MB\n"
          ]
        }
      ]
    },
    {
      "cell_type": "code",
      "source": [
        "df.isnull().sum().sort_values(ascending=False)"
      ],
      "metadata": {
        "colab": {
          "base_uri": "https://localhost:8080/",
          "height": 899
        },
        "id": "Ttz6ZE_n6Lo0",
        "outputId": "dcf7a3fd-715b-4104-af67-726a3a0413af"
      },
      "execution_count": 7,
      "outputs": [
        {
          "output_type": "execute_result",
          "data": {
            "text/plain": [
              "Unnamed: 23              1048575\n",
              "Unnamed: 22              1048575\n",
              "Unnamed: 25              1048575\n",
              "Unnamed: 24              1048575\n",
              "Unnamed: 21              1048575\n",
              "sales_commission_code     601229\n",
              "category_name_1           464215\n",
              "sku                       464071\n",
              "status                    464066\n",
              "Customer Since            464062\n",
              "Customer ID               464062\n",
              "increment_id              464051\n",
              "grand_total               464051\n",
              "qty_ordered               464051\n",
              "created_at                464051\n",
              "item_id                   464051\n",
              "price                     464051\n",
              "discount_amount           464051\n",
              "Month                     464051\n",
              "Year                      464051\n",
              " MV                       464051\n",
              "BI Status                 464051\n",
              "payment_method            464051\n",
              "Working Date              464051\n",
              "M-Y                       464051\n",
              "FY                        464051\n",
              "dtype: int64"
            ],
            "text/html": [
              "<div>\n",
              "<style scoped>\n",
              "    .dataframe tbody tr th:only-of-type {\n",
              "        vertical-align: middle;\n",
              "    }\n",
              "\n",
              "    .dataframe tbody tr th {\n",
              "        vertical-align: top;\n",
              "    }\n",
              "\n",
              "    .dataframe thead th {\n",
              "        text-align: right;\n",
              "    }\n",
              "</style>\n",
              "<table border=\"1\" class=\"dataframe\">\n",
              "  <thead>\n",
              "    <tr style=\"text-align: right;\">\n",
              "      <th></th>\n",
              "      <th>0</th>\n",
              "    </tr>\n",
              "  </thead>\n",
              "  <tbody>\n",
              "    <tr>\n",
              "      <th>Unnamed: 23</th>\n",
              "      <td>1048575</td>\n",
              "    </tr>\n",
              "    <tr>\n",
              "      <th>Unnamed: 22</th>\n",
              "      <td>1048575</td>\n",
              "    </tr>\n",
              "    <tr>\n",
              "      <th>Unnamed: 25</th>\n",
              "      <td>1048575</td>\n",
              "    </tr>\n",
              "    <tr>\n",
              "      <th>Unnamed: 24</th>\n",
              "      <td>1048575</td>\n",
              "    </tr>\n",
              "    <tr>\n",
              "      <th>Unnamed: 21</th>\n",
              "      <td>1048575</td>\n",
              "    </tr>\n",
              "    <tr>\n",
              "      <th>sales_commission_code</th>\n",
              "      <td>601229</td>\n",
              "    </tr>\n",
              "    <tr>\n",
              "      <th>category_name_1</th>\n",
              "      <td>464215</td>\n",
              "    </tr>\n",
              "    <tr>\n",
              "      <th>sku</th>\n",
              "      <td>464071</td>\n",
              "    </tr>\n",
              "    <tr>\n",
              "      <th>status</th>\n",
              "      <td>464066</td>\n",
              "    </tr>\n",
              "    <tr>\n",
              "      <th>Customer Since</th>\n",
              "      <td>464062</td>\n",
              "    </tr>\n",
              "    <tr>\n",
              "      <th>Customer ID</th>\n",
              "      <td>464062</td>\n",
              "    </tr>\n",
              "    <tr>\n",
              "      <th>increment_id</th>\n",
              "      <td>464051</td>\n",
              "    </tr>\n",
              "    <tr>\n",
              "      <th>grand_total</th>\n",
              "      <td>464051</td>\n",
              "    </tr>\n",
              "    <tr>\n",
              "      <th>qty_ordered</th>\n",
              "      <td>464051</td>\n",
              "    </tr>\n",
              "    <tr>\n",
              "      <th>created_at</th>\n",
              "      <td>464051</td>\n",
              "    </tr>\n",
              "    <tr>\n",
              "      <th>item_id</th>\n",
              "      <td>464051</td>\n",
              "    </tr>\n",
              "    <tr>\n",
              "      <th>price</th>\n",
              "      <td>464051</td>\n",
              "    </tr>\n",
              "    <tr>\n",
              "      <th>discount_amount</th>\n",
              "      <td>464051</td>\n",
              "    </tr>\n",
              "    <tr>\n",
              "      <th>Month</th>\n",
              "      <td>464051</td>\n",
              "    </tr>\n",
              "    <tr>\n",
              "      <th>Year</th>\n",
              "      <td>464051</td>\n",
              "    </tr>\n",
              "    <tr>\n",
              "      <th>MV</th>\n",
              "      <td>464051</td>\n",
              "    </tr>\n",
              "    <tr>\n",
              "      <th>BI Status</th>\n",
              "      <td>464051</td>\n",
              "    </tr>\n",
              "    <tr>\n",
              "      <th>payment_method</th>\n",
              "      <td>464051</td>\n",
              "    </tr>\n",
              "    <tr>\n",
              "      <th>Working Date</th>\n",
              "      <td>464051</td>\n",
              "    </tr>\n",
              "    <tr>\n",
              "      <th>M-Y</th>\n",
              "      <td>464051</td>\n",
              "    </tr>\n",
              "    <tr>\n",
              "      <th>FY</th>\n",
              "      <td>464051</td>\n",
              "    </tr>\n",
              "  </tbody>\n",
              "</table>\n",
              "</div><br><label><b>dtype:</b> int64</label>"
            ]
          },
          "metadata": {},
          "execution_count": 7
        }
      ]
    },
    {
      "cell_type": "code",
      "source": [
        "df['BI Status'].value_counts()"
      ],
      "metadata": {
        "colab": {
          "base_uri": "https://localhost:8080/",
          "height": 240
        },
        "id": "TvfA8XrX6aNd",
        "outputId": "82740f93-5864-4d83-b72f-42c47d40e904"
      },
      "execution_count": 8,
      "outputs": [
        {
          "output_type": "execute_result",
          "data": {
            "text/plain": [
              "BI Status\n",
              "Net      234178\n",
              "Gross    201454\n",
              "Valid    148891\n",
              "#REF!         1\n",
              "Name: count, dtype: int64"
            ],
            "text/html": [
              "<div>\n",
              "<style scoped>\n",
              "    .dataframe tbody tr th:only-of-type {\n",
              "        vertical-align: middle;\n",
              "    }\n",
              "\n",
              "    .dataframe tbody tr th {\n",
              "        vertical-align: top;\n",
              "    }\n",
              "\n",
              "    .dataframe thead th {\n",
              "        text-align: right;\n",
              "    }\n",
              "</style>\n",
              "<table border=\"1\" class=\"dataframe\">\n",
              "  <thead>\n",
              "    <tr style=\"text-align: right;\">\n",
              "      <th></th>\n",
              "      <th>count</th>\n",
              "    </tr>\n",
              "    <tr>\n",
              "      <th>BI Status</th>\n",
              "      <th></th>\n",
              "    </tr>\n",
              "  </thead>\n",
              "  <tbody>\n",
              "    <tr>\n",
              "      <th>Net</th>\n",
              "      <td>234178</td>\n",
              "    </tr>\n",
              "    <tr>\n",
              "      <th>Gross</th>\n",
              "      <td>201454</td>\n",
              "    </tr>\n",
              "    <tr>\n",
              "      <th>Valid</th>\n",
              "      <td>148891</td>\n",
              "    </tr>\n",
              "    <tr>\n",
              "      <th>#REF!</th>\n",
              "      <td>1</td>\n",
              "    </tr>\n",
              "  </tbody>\n",
              "</table>\n",
              "</div><br><label><b>dtype:</b> int64</label>"
            ]
          },
          "metadata": {},
          "execution_count": 8
        }
      ]
    },
    {
      "cell_type": "code",
      "source": [
        "data = df.select_dtypes(include=['int','float'])\n",
        "data.head()"
      ],
      "metadata": {
        "id": "MWDntWcg6xaa",
        "colab": {
          "base_uri": "https://localhost:8080/",
          "height": 243
        },
        "outputId": "00a84755-955d-40a8-878a-57e7f6632136"
      },
      "execution_count": 9,
      "outputs": [
        {
          "output_type": "execute_result",
          "data": {
            "text/plain": [
              "    item_id   price  qty_ordered  grand_total  discount_amount    Year  Month  \\\n",
              "0  211131.0  1950.0          1.0       1950.0              0.0  2016.0    7.0   \n",
              "1  211133.0   240.0          1.0        240.0              0.0  2016.0    7.0   \n",
              "2  211134.0  2450.0          1.0       2450.0              0.0  2016.0    7.0   \n",
              "3  211135.0   360.0          1.0         60.0            300.0  2016.0    7.0   \n",
              "4  211136.0   555.0          2.0       1110.0              0.0  2016.0    7.0   \n",
              "\n",
              "   Customer ID  Unnamed: 21  Unnamed: 22  Unnamed: 23  Unnamed: 24  \\\n",
              "0          1.0          NaN          NaN          NaN          NaN   \n",
              "1          2.0          NaN          NaN          NaN          NaN   \n",
              "2          3.0          NaN          NaN          NaN          NaN   \n",
              "3          4.0          NaN          NaN          NaN          NaN   \n",
              "4          5.0          NaN          NaN          NaN          NaN   \n",
              "\n",
              "   Unnamed: 25  \n",
              "0          NaN  \n",
              "1          NaN  \n",
              "2          NaN  \n",
              "3          NaN  \n",
              "4          NaN  "
            ],
            "text/html": [
              "\n",
              "  <div id=\"df-87399ad6-00ca-400e-a948-04fdb5cc31bb\" class=\"colab-df-container\">\n",
              "    <div>\n",
              "<style scoped>\n",
              "    .dataframe tbody tr th:only-of-type {\n",
              "        vertical-align: middle;\n",
              "    }\n",
              "\n",
              "    .dataframe tbody tr th {\n",
              "        vertical-align: top;\n",
              "    }\n",
              "\n",
              "    .dataframe thead th {\n",
              "        text-align: right;\n",
              "    }\n",
              "</style>\n",
              "<table border=\"1\" class=\"dataframe\">\n",
              "  <thead>\n",
              "    <tr style=\"text-align: right;\">\n",
              "      <th></th>\n",
              "      <th>item_id</th>\n",
              "      <th>price</th>\n",
              "      <th>qty_ordered</th>\n",
              "      <th>grand_total</th>\n",
              "      <th>discount_amount</th>\n",
              "      <th>Year</th>\n",
              "      <th>Month</th>\n",
              "      <th>Customer ID</th>\n",
              "      <th>Unnamed: 21</th>\n",
              "      <th>Unnamed: 22</th>\n",
              "      <th>Unnamed: 23</th>\n",
              "      <th>Unnamed: 24</th>\n",
              "      <th>Unnamed: 25</th>\n",
              "    </tr>\n",
              "  </thead>\n",
              "  <tbody>\n",
              "    <tr>\n",
              "      <th>0</th>\n",
              "      <td>211131.0</td>\n",
              "      <td>1950.0</td>\n",
              "      <td>1.0</td>\n",
              "      <td>1950.0</td>\n",
              "      <td>0.0</td>\n",
              "      <td>2016.0</td>\n",
              "      <td>7.0</td>\n",
              "      <td>1.0</td>\n",
              "      <td>NaN</td>\n",
              "      <td>NaN</td>\n",
              "      <td>NaN</td>\n",
              "      <td>NaN</td>\n",
              "      <td>NaN</td>\n",
              "    </tr>\n",
              "    <tr>\n",
              "      <th>1</th>\n",
              "      <td>211133.0</td>\n",
              "      <td>240.0</td>\n",
              "      <td>1.0</td>\n",
              "      <td>240.0</td>\n",
              "      <td>0.0</td>\n",
              "      <td>2016.0</td>\n",
              "      <td>7.0</td>\n",
              "      <td>2.0</td>\n",
              "      <td>NaN</td>\n",
              "      <td>NaN</td>\n",
              "      <td>NaN</td>\n",
              "      <td>NaN</td>\n",
              "      <td>NaN</td>\n",
              "    </tr>\n",
              "    <tr>\n",
              "      <th>2</th>\n",
              "      <td>211134.0</td>\n",
              "      <td>2450.0</td>\n",
              "      <td>1.0</td>\n",
              "      <td>2450.0</td>\n",
              "      <td>0.0</td>\n",
              "      <td>2016.0</td>\n",
              "      <td>7.0</td>\n",
              "      <td>3.0</td>\n",
              "      <td>NaN</td>\n",
              "      <td>NaN</td>\n",
              "      <td>NaN</td>\n",
              "      <td>NaN</td>\n",
              "      <td>NaN</td>\n",
              "    </tr>\n",
              "    <tr>\n",
              "      <th>3</th>\n",
              "      <td>211135.0</td>\n",
              "      <td>360.0</td>\n",
              "      <td>1.0</td>\n",
              "      <td>60.0</td>\n",
              "      <td>300.0</td>\n",
              "      <td>2016.0</td>\n",
              "      <td>7.0</td>\n",
              "      <td>4.0</td>\n",
              "      <td>NaN</td>\n",
              "      <td>NaN</td>\n",
              "      <td>NaN</td>\n",
              "      <td>NaN</td>\n",
              "      <td>NaN</td>\n",
              "    </tr>\n",
              "    <tr>\n",
              "      <th>4</th>\n",
              "      <td>211136.0</td>\n",
              "      <td>555.0</td>\n",
              "      <td>2.0</td>\n",
              "      <td>1110.0</td>\n",
              "      <td>0.0</td>\n",
              "      <td>2016.0</td>\n",
              "      <td>7.0</td>\n",
              "      <td>5.0</td>\n",
              "      <td>NaN</td>\n",
              "      <td>NaN</td>\n",
              "      <td>NaN</td>\n",
              "      <td>NaN</td>\n",
              "      <td>NaN</td>\n",
              "    </tr>\n",
              "  </tbody>\n",
              "</table>\n",
              "</div>\n",
              "    <div class=\"colab-df-buttons\">\n",
              "\n",
              "  <div class=\"colab-df-container\">\n",
              "    <button class=\"colab-df-convert\" onclick=\"convertToInteractive('df-87399ad6-00ca-400e-a948-04fdb5cc31bb')\"\n",
              "            title=\"Convert this dataframe to an interactive table.\"\n",
              "            style=\"display:none;\">\n",
              "\n",
              "  <svg xmlns=\"http://www.w3.org/2000/svg\" height=\"24px\" viewBox=\"0 -960 960 960\">\n",
              "    <path d=\"M120-120v-720h720v720H120Zm60-500h600v-160H180v160Zm220 220h160v-160H400v160Zm0 220h160v-160H400v160ZM180-400h160v-160H180v160Zm440 0h160v-160H620v160ZM180-180h160v-160H180v160Zm440 0h160v-160H620v160Z\"/>\n",
              "  </svg>\n",
              "    </button>\n",
              "\n",
              "  <style>\n",
              "    .colab-df-container {\n",
              "      display:flex;\n",
              "      gap: 12px;\n",
              "    }\n",
              "\n",
              "    .colab-df-convert {\n",
              "      background-color: #E8F0FE;\n",
              "      border: none;\n",
              "      border-radius: 50%;\n",
              "      cursor: pointer;\n",
              "      display: none;\n",
              "      fill: #1967D2;\n",
              "      height: 32px;\n",
              "      padding: 0 0 0 0;\n",
              "      width: 32px;\n",
              "    }\n",
              "\n",
              "    .colab-df-convert:hover {\n",
              "      background-color: #E2EBFA;\n",
              "      box-shadow: 0px 1px 2px rgba(60, 64, 67, 0.3), 0px 1px 3px 1px rgba(60, 64, 67, 0.15);\n",
              "      fill: #174EA6;\n",
              "    }\n",
              "\n",
              "    .colab-df-buttons div {\n",
              "      margin-bottom: 4px;\n",
              "    }\n",
              "\n",
              "    [theme=dark] .colab-df-convert {\n",
              "      background-color: #3B4455;\n",
              "      fill: #D2E3FC;\n",
              "    }\n",
              "\n",
              "    [theme=dark] .colab-df-convert:hover {\n",
              "      background-color: #434B5C;\n",
              "      box-shadow: 0px 1px 3px 1px rgba(0, 0, 0, 0.15);\n",
              "      filter: drop-shadow(0px 1px 2px rgba(0, 0, 0, 0.3));\n",
              "      fill: #FFFFFF;\n",
              "    }\n",
              "  </style>\n",
              "\n",
              "    <script>\n",
              "      const buttonEl =\n",
              "        document.querySelector('#df-87399ad6-00ca-400e-a948-04fdb5cc31bb button.colab-df-convert');\n",
              "      buttonEl.style.display =\n",
              "        google.colab.kernel.accessAllowed ? 'block' : 'none';\n",
              "\n",
              "      async function convertToInteractive(key) {\n",
              "        const element = document.querySelector('#df-87399ad6-00ca-400e-a948-04fdb5cc31bb');\n",
              "        const dataTable =\n",
              "          await google.colab.kernel.invokeFunction('convertToInteractive',\n",
              "                                                    [key], {});\n",
              "        if (!dataTable) return;\n",
              "\n",
              "        const docLinkHtml = 'Like what you see? Visit the ' +\n",
              "          '<a target=\"_blank\" href=https://colab.research.google.com/notebooks/data_table.ipynb>data table notebook</a>'\n",
              "          + ' to learn more about interactive tables.';\n",
              "        element.innerHTML = '';\n",
              "        dataTable['output_type'] = 'display_data';\n",
              "        await google.colab.output.renderOutput(dataTable, element);\n",
              "        const docLink = document.createElement('div');\n",
              "        docLink.innerHTML = docLinkHtml;\n",
              "        element.appendChild(docLink);\n",
              "      }\n",
              "    </script>\n",
              "  </div>\n",
              "\n",
              "\n",
              "    <div id=\"df-223ecec7-570a-4ec7-8f65-285aafda9681\">\n",
              "      <button class=\"colab-df-quickchart\" onclick=\"quickchart('df-223ecec7-570a-4ec7-8f65-285aafda9681')\"\n",
              "                title=\"Suggest charts\"\n",
              "                style=\"display:none;\">\n",
              "\n",
              "<svg xmlns=\"http://www.w3.org/2000/svg\" height=\"24px\"viewBox=\"0 0 24 24\"\n",
              "     width=\"24px\">\n",
              "    <g>\n",
              "        <path d=\"M19 3H5c-1.1 0-2 .9-2 2v14c0 1.1.9 2 2 2h14c1.1 0 2-.9 2-2V5c0-1.1-.9-2-2-2zM9 17H7v-7h2v7zm4 0h-2V7h2v10zm4 0h-2v-4h2v4z\"/>\n",
              "    </g>\n",
              "</svg>\n",
              "      </button>\n",
              "\n",
              "<style>\n",
              "  .colab-df-quickchart {\n",
              "      --bg-color: #E8F0FE;\n",
              "      --fill-color: #1967D2;\n",
              "      --hover-bg-color: #E2EBFA;\n",
              "      --hover-fill-color: #174EA6;\n",
              "      --disabled-fill-color: #AAA;\n",
              "      --disabled-bg-color: #DDD;\n",
              "  }\n",
              "\n",
              "  [theme=dark] .colab-df-quickchart {\n",
              "      --bg-color: #3B4455;\n",
              "      --fill-color: #D2E3FC;\n",
              "      --hover-bg-color: #434B5C;\n",
              "      --hover-fill-color: #FFFFFF;\n",
              "      --disabled-bg-color: #3B4455;\n",
              "      --disabled-fill-color: #666;\n",
              "  }\n",
              "\n",
              "  .colab-df-quickchart {\n",
              "    background-color: var(--bg-color);\n",
              "    border: none;\n",
              "    border-radius: 50%;\n",
              "    cursor: pointer;\n",
              "    display: none;\n",
              "    fill: var(--fill-color);\n",
              "    height: 32px;\n",
              "    padding: 0;\n",
              "    width: 32px;\n",
              "  }\n",
              "\n",
              "  .colab-df-quickchart:hover {\n",
              "    background-color: var(--hover-bg-color);\n",
              "    box-shadow: 0 1px 2px rgba(60, 64, 67, 0.3), 0 1px 3px 1px rgba(60, 64, 67, 0.15);\n",
              "    fill: var(--button-hover-fill-color);\n",
              "  }\n",
              "\n",
              "  .colab-df-quickchart-complete:disabled,\n",
              "  .colab-df-quickchart-complete:disabled:hover {\n",
              "    background-color: var(--disabled-bg-color);\n",
              "    fill: var(--disabled-fill-color);\n",
              "    box-shadow: none;\n",
              "  }\n",
              "\n",
              "  .colab-df-spinner {\n",
              "    border: 2px solid var(--fill-color);\n",
              "    border-color: transparent;\n",
              "    border-bottom-color: var(--fill-color);\n",
              "    animation:\n",
              "      spin 1s steps(1) infinite;\n",
              "  }\n",
              "\n",
              "  @keyframes spin {\n",
              "    0% {\n",
              "      border-color: transparent;\n",
              "      border-bottom-color: var(--fill-color);\n",
              "      border-left-color: var(--fill-color);\n",
              "    }\n",
              "    20% {\n",
              "      border-color: transparent;\n",
              "      border-left-color: var(--fill-color);\n",
              "      border-top-color: var(--fill-color);\n",
              "    }\n",
              "    30% {\n",
              "      border-color: transparent;\n",
              "      border-left-color: var(--fill-color);\n",
              "      border-top-color: var(--fill-color);\n",
              "      border-right-color: var(--fill-color);\n",
              "    }\n",
              "    40% {\n",
              "      border-color: transparent;\n",
              "      border-right-color: var(--fill-color);\n",
              "      border-top-color: var(--fill-color);\n",
              "    }\n",
              "    60% {\n",
              "      border-color: transparent;\n",
              "      border-right-color: var(--fill-color);\n",
              "    }\n",
              "    80% {\n",
              "      border-color: transparent;\n",
              "      border-right-color: var(--fill-color);\n",
              "      border-bottom-color: var(--fill-color);\n",
              "    }\n",
              "    90% {\n",
              "      border-color: transparent;\n",
              "      border-bottom-color: var(--fill-color);\n",
              "    }\n",
              "  }\n",
              "</style>\n",
              "\n",
              "      <script>\n",
              "        async function quickchart(key) {\n",
              "          const quickchartButtonEl =\n",
              "            document.querySelector('#' + key + ' button');\n",
              "          quickchartButtonEl.disabled = true;  // To prevent multiple clicks.\n",
              "          quickchartButtonEl.classList.add('colab-df-spinner');\n",
              "          try {\n",
              "            const charts = await google.colab.kernel.invokeFunction(\n",
              "                'suggestCharts', [key], {});\n",
              "          } catch (error) {\n",
              "            console.error('Error during call to suggestCharts:', error);\n",
              "          }\n",
              "          quickchartButtonEl.classList.remove('colab-df-spinner');\n",
              "          quickchartButtonEl.classList.add('colab-df-quickchart-complete');\n",
              "        }\n",
              "        (() => {\n",
              "          let quickchartButtonEl =\n",
              "            document.querySelector('#df-223ecec7-570a-4ec7-8f65-285aafda9681 button');\n",
              "          quickchartButtonEl.style.display =\n",
              "            google.colab.kernel.accessAllowed ? 'block' : 'none';\n",
              "        })();\n",
              "      </script>\n",
              "    </div>\n",
              "\n",
              "    </div>\n",
              "  </div>\n"
            ],
            "application/vnd.google.colaboratory.intrinsic+json": {
              "type": "dataframe",
              "variable_name": "data"
            }
          },
          "metadata": {},
          "execution_count": 9
        }
      ]
    },
    {
      "cell_type": "code",
      "source": [
        "df_copy = df.copy()\n",
        "df_filter = {}\n",
        "for col in data:\n",
        "  q1 = df_copy[col].quantile(0.25)\n",
        "  q3 = df_copy[col].quantile(0.75)\n",
        "  iqr = q3 - q1\n",
        "  lower_bound = q1 - 1.5 * iqr\n",
        "  upper_bound = q3 + 1.5 * iqr\n",
        "\n",
        "  outlier = df_copy[(df_copy[col]<=lower_bound)|(df_copy[col]>=upper_bound)]\n",
        "  df_filter[col] = len(outlier)\n",
        "\n",
        "  df_series = pd.Series(df_filter).sort_values(ascending=False)\n"
      ],
      "metadata": {
        "id": "YMiK8_DcYuEf"
      },
      "execution_count": 10,
      "outputs": []
    },
    {
      "cell_type": "code",
      "source": [
        "print(df_series)"
      ],
      "metadata": {
        "colab": {
          "base_uri": "https://localhost:8080/"
        },
        "id": "heVzhmk8YAwD",
        "outputId": "a9631d90-5c8d-446d-8b92-adac9578a561"
      },
      "execution_count": 11,
      "outputs": [
        {
          "output_type": "stream",
          "name": "stdout",
          "text": [
            "qty_ordered        584524\n",
            "discount_amount    108989\n",
            "price              105849\n",
            "grand_total         77090\n",
            "item_id                 0\n",
            "Year                    0\n",
            "Month                   0\n",
            "Customer ID             0\n",
            "Unnamed: 21             0\n",
            "Unnamed: 22             0\n",
            "Unnamed: 23             0\n",
            "Unnamed: 24             0\n",
            "Unnamed: 25             0\n",
            "dtype: int64\n"
          ]
        }
      ]
    },
    {
      "cell_type": "code",
      "source": [
        "df.columns"
      ],
      "metadata": {
        "colab": {
          "base_uri": "https://localhost:8080/"
        },
        "id": "mLb30TkuiI5E",
        "outputId": "eb181a77-34bb-4f77-84f2-e340f0ad9ae5"
      },
      "execution_count": 12,
      "outputs": [
        {
          "output_type": "execute_result",
          "data": {
            "text/plain": [
              "Index(['item_id', 'status', 'created_at', 'sku', 'price', 'qty_ordered',\n",
              "       'grand_total', 'increment_id', 'category_name_1',\n",
              "       'sales_commission_code', 'discount_amount', 'payment_method',\n",
              "       'Working Date', 'BI Status', ' MV ', 'Year', 'Month', 'Customer Since',\n",
              "       'M-Y', 'FY', 'Customer ID', 'Unnamed: 21', 'Unnamed: 22', 'Unnamed: 23',\n",
              "       'Unnamed: 24', 'Unnamed: 25'],\n",
              "      dtype='object')"
            ]
          },
          "metadata": {},
          "execution_count": 12
        }
      ]
    },
    {
      "cell_type": "code",
      "source": [
        "df.columns = df.columns.str.strip()"
      ],
      "metadata": {
        "id": "1Y60npc6aogs"
      },
      "execution_count": 13,
      "outputs": []
    },
    {
      "cell_type": "code",
      "source": [
        "unnamed = [c for c in df.columns if c.startswith(\"Unnamed\")]\n",
        "print(\"Unnamed columns: \",unnamed)"
      ],
      "metadata": {
        "colab": {
          "base_uri": "https://localhost:8080/"
        },
        "id": "KPd6KdP3h4EX",
        "outputId": "1f3ae3a4-8e25-448b-8f55-4c60df1ce10d"
      },
      "execution_count": 14,
      "outputs": [
        {
          "output_type": "stream",
          "name": "stdout",
          "text": [
            "Unnamed columns:  ['Unnamed: 21', 'Unnamed: 22', 'Unnamed: 23', 'Unnamed: 24', 'Unnamed: 25']\n"
          ]
        }
      ]
    },
    {
      "cell_type": "code",
      "source": [
        "df = df.drop(columns=[c for c in unnamed if df[c].isnull().all()], errors='ignore')"
      ],
      "metadata": {
        "id": "hwv9EaJ7iYFz"
      },
      "execution_count": 15,
      "outputs": []
    },
    {
      "cell_type": "code",
      "source": [
        "missing_pct = df.isnull().mean().sort_values(ascending=False)\n",
        "print(missing_pct.head(25))"
      ],
      "metadata": {
        "colab": {
          "base_uri": "https://localhost:8080/"
        },
        "id": "lCoN3MlNjLkL",
        "outputId": "0b1fed45-c68e-4b53-d4d0-ad9a362a809a"
      },
      "execution_count": 16,
      "outputs": [
        {
          "output_type": "stream",
          "name": "stdout",
          "text": [
            "sales_commission_code    0.573377\n",
            "category_name_1          0.442710\n",
            "sku                      0.442573\n",
            "status                   0.442568\n",
            "Customer Since           0.442564\n",
            "Customer ID              0.442564\n",
            "price                    0.442554\n",
            "item_id                  0.442554\n",
            "created_at               0.442554\n",
            "increment_id             0.442554\n",
            "discount_amount          0.442554\n",
            "grand_total              0.442554\n",
            "qty_ordered              0.442554\n",
            "Working Date             0.442554\n",
            "payment_method           0.442554\n",
            "BI Status                0.442554\n",
            "MV                       0.442554\n",
            "Month                    0.442554\n",
            "Year                     0.442554\n",
            "M-Y                      0.442554\n",
            "FY                       0.442554\n",
            "dtype: float64\n"
          ]
        }
      ]
    },
    {
      "cell_type": "code",
      "source": [
        "df.columns"
      ],
      "metadata": {
        "id": "lkRJgR8i44Y9",
        "colab": {
          "base_uri": "https://localhost:8080/"
        },
        "outputId": "bd25468f-5dcc-48db-e4c1-0325b2a133a4"
      },
      "execution_count": 17,
      "outputs": [
        {
          "output_type": "execute_result",
          "data": {
            "text/plain": [
              "Index(['item_id', 'status', 'created_at', 'sku', 'price', 'qty_ordered',\n",
              "       'grand_total', 'increment_id', 'category_name_1',\n",
              "       'sales_commission_code', 'discount_amount', 'payment_method',\n",
              "       'Working Date', 'BI Status', 'MV', 'Year', 'Month', 'Customer Since',\n",
              "       'M-Y', 'FY', 'Customer ID'],\n",
              "      dtype='object')"
            ]
          },
          "metadata": {},
          "execution_count": 17
        }
      ]
    },
    {
      "cell_type": "code",
      "source": [
        "essential = ['created_at','grand_total','qty_ordered','price','Customer ID','increment_id']\n",
        "essential = [c for c in essential if c in df.columns]\n"
      ],
      "metadata": {
        "id": "ijwUbulxPbB4"
      },
      "execution_count": 18,
      "outputs": []
    },
    {
      "cell_type": "code",
      "source": [
        "mask = df[essential].notnull().all(axis=1)\n",
        "print(\"Rows with all essentials non-null: \", mask.sum(),\" out of \",len(df))"
      ],
      "metadata": {
        "colab": {
          "base_uri": "https://localhost:8080/"
        },
        "id": "8XX-HdqyP7Zp",
        "outputId": "fa2e24bb-b326-4398-dd32-fbde047c34be"
      },
      "execution_count": 19,
      "outputs": [
        {
          "output_type": "stream",
          "name": "stdout",
          "text": [
            "Rows with all essentials non-null:  584513  out of  1048575\n"
          ]
        }
      ]
    },
    {
      "cell_type": "code",
      "source": [
        "df_good = df[mask].copy()"
      ],
      "metadata": {
        "id": "ooauKSmzQYv9"
      },
      "execution_count": 20,
      "outputs": []
    },
    {
      "cell_type": "markdown",
      "source": [
        "___________________________"
      ],
      "metadata": {
        "id": "vfGuNj_ZOdEB"
      }
    },
    {
      "cell_type": "markdown",
      "source": [
        "**dtypes, parse dates, downcast numeric, remove non-positive prices**"
      ],
      "metadata": {
        "id": "ffQJvhKAOZMG"
      }
    },
    {
      "cell_type": "code",
      "source": [
        "df_good['created_at'] = pd.to_datetime(df['created_at'],errors='coerce')"
      ],
      "metadata": {
        "id": "3Lfs2OwBNurl"
      },
      "execution_count": 21,
      "outputs": []
    },
    {
      "cell_type": "code",
      "source": [
        "df_good['Month']"
      ],
      "metadata": {
        "colab": {
          "base_uri": "https://localhost:8080/",
          "height": 458
        },
        "id": "rSR0dbTXPzF6",
        "outputId": "6c8dd854-d89e-4741-8a86-e4122bbbbd90"
      },
      "execution_count": 22,
      "outputs": [
        {
          "output_type": "execute_result",
          "data": {
            "text/plain": [
              "0         7.0\n",
              "1         7.0\n",
              "2         7.0\n",
              "3         7.0\n",
              "4         7.0\n",
              "         ... \n",
              "584519    8.0\n",
              "584520    8.0\n",
              "584521    8.0\n",
              "584522    8.0\n",
              "584523    8.0\n",
              "Name: Month, Length: 584513, dtype: float64"
            ],
            "text/html": [
              "<div>\n",
              "<style scoped>\n",
              "    .dataframe tbody tr th:only-of-type {\n",
              "        vertical-align: middle;\n",
              "    }\n",
              "\n",
              "    .dataframe tbody tr th {\n",
              "        vertical-align: top;\n",
              "    }\n",
              "\n",
              "    .dataframe thead th {\n",
              "        text-align: right;\n",
              "    }\n",
              "</style>\n",
              "<table border=\"1\" class=\"dataframe\">\n",
              "  <thead>\n",
              "    <tr style=\"text-align: right;\">\n",
              "      <th></th>\n",
              "      <th>Month</th>\n",
              "    </tr>\n",
              "  </thead>\n",
              "  <tbody>\n",
              "    <tr>\n",
              "      <th>0</th>\n",
              "      <td>7.0</td>\n",
              "    </tr>\n",
              "    <tr>\n",
              "      <th>1</th>\n",
              "      <td>7.0</td>\n",
              "    </tr>\n",
              "    <tr>\n",
              "      <th>2</th>\n",
              "      <td>7.0</td>\n",
              "    </tr>\n",
              "    <tr>\n",
              "      <th>3</th>\n",
              "      <td>7.0</td>\n",
              "    </tr>\n",
              "    <tr>\n",
              "      <th>4</th>\n",
              "      <td>7.0</td>\n",
              "    </tr>\n",
              "    <tr>\n",
              "      <th>...</th>\n",
              "      <td>...</td>\n",
              "    </tr>\n",
              "    <tr>\n",
              "      <th>584519</th>\n",
              "      <td>8.0</td>\n",
              "    </tr>\n",
              "    <tr>\n",
              "      <th>584520</th>\n",
              "      <td>8.0</td>\n",
              "    </tr>\n",
              "    <tr>\n",
              "      <th>584521</th>\n",
              "      <td>8.0</td>\n",
              "    </tr>\n",
              "    <tr>\n",
              "      <th>584522</th>\n",
              "      <td>8.0</td>\n",
              "    </tr>\n",
              "    <tr>\n",
              "      <th>584523</th>\n",
              "      <td>8.0</td>\n",
              "    </tr>\n",
              "  </tbody>\n",
              "</table>\n",
              "<p>584513 rows × 1 columns</p>\n",
              "</div><br><label><b>dtype:</b> float64</label>"
            ]
          },
          "metadata": {},
          "execution_count": 22
        }
      ]
    },
    {
      "cell_type": "code",
      "source": [
        "for c in ['Year','Month']:\n",
        "  if c in df_good.columns:\n",
        "    df_good[c] = pd.to_numeric(df[c],errors='coerce').astype('Int64')"
      ],
      "metadata": {
        "id": "CpaIgHJSPc9w"
      },
      "execution_count": 23,
      "outputs": []
    },
    {
      "cell_type": "code",
      "source": [
        "num_df = df_good.select_dtypes(include=['int','float'])\n",
        "num_df.columns"
      ],
      "metadata": {
        "colab": {
          "base_uri": "https://localhost:8080/"
        },
        "id": "UWiKImY5QVFE",
        "outputId": "e421fa30-efc3-4570-c138-12a765732252"
      },
      "execution_count": 24,
      "outputs": [
        {
          "output_type": "execute_result",
          "data": {
            "text/plain": [
              "Index(['item_id', 'price', 'qty_ordered', 'grand_total', 'discount_amount',\n",
              "       'Year', 'Month', 'Customer ID'],\n",
              "      dtype='object')"
            ]
          },
          "metadata": {},
          "execution_count": 24
        }
      ]
    },
    {
      "cell_type": "code",
      "source": [
        "for c in ['price', 'qty_ordered', 'grand_total', 'discount_amount']:\n",
        "  if c in df_good.columns:\n",
        "    df_good[c] = pd.to_numeric(df[c],errors='coerce').astype('float32')"
      ],
      "metadata": {
        "id": "1Nd3_eRTRZil"
      },
      "execution_count": 25,
      "outputs": []
    },
    {
      "cell_type": "code",
      "source": [
        "df_good.shape"
      ],
      "metadata": {
        "colab": {
          "base_uri": "https://localhost:8080/"
        },
        "id": "k0CrpngoR5J2",
        "outputId": "f0db8f61-93e9-45a2-bc28-d8b83d77e155"
      },
      "execution_count": 26,
      "outputs": [
        {
          "output_type": "execute_result",
          "data": {
            "text/plain": [
              "(584513, 21)"
            ]
          },
          "metadata": {},
          "execution_count": 26
        }
      ]
    },
    {
      "cell_type": "code",
      "source": [
        "df_good = df_good[(df_good['price']>0)&(df_good['grand_total']>0)]\n",
        "print(\"After dropping zero/neg price rows \",df_good.shape)"
      ],
      "metadata": {
        "colab": {
          "base_uri": "https://localhost:8080/"
        },
        "id": "oOTa46XPSblB",
        "outputId": "4579908e-6371-4f34-f158-858311427110"
      },
      "execution_count": 27,
      "outputs": [
        {
          "output_type": "stream",
          "name": "stdout",
          "text": [
            "After dropping zero/neg price rows  (572739, 21)\n"
          ]
        }
      ]
    },
    {
      "cell_type": "code",
      "source": [
        "df_good.isnull().sum()"
      ],
      "metadata": {
        "colab": {
          "base_uri": "https://localhost:8080/",
          "height": 742
        },
        "id": "nd_sG4L3TCcA",
        "outputId": "8539a0a6-e254-4531-f563-1dc5af7d7e88"
      },
      "execution_count": 28,
      "outputs": [
        {
          "output_type": "execute_result",
          "data": {
            "text/plain": [
              "item_id                       0\n",
              "status                       14\n",
              "created_at                    0\n",
              "sku                           3\n",
              "price                         0\n",
              "qty_ordered                   0\n",
              "grand_total                   0\n",
              "increment_id                  0\n",
              "category_name_1             163\n",
              "sales_commission_code    133385\n",
              "discount_amount               0\n",
              "payment_method                0\n",
              "Working Date                  0\n",
              "BI Status                     0\n",
              "MV                            0\n",
              "Year                          0\n",
              "Month                         0\n",
              "Customer Since                0\n",
              "M-Y                           0\n",
              "FY                            0\n",
              "Customer ID                   0\n",
              "dtype: int64"
            ],
            "text/html": [
              "<div>\n",
              "<style scoped>\n",
              "    .dataframe tbody tr th:only-of-type {\n",
              "        vertical-align: middle;\n",
              "    }\n",
              "\n",
              "    .dataframe tbody tr th {\n",
              "        vertical-align: top;\n",
              "    }\n",
              "\n",
              "    .dataframe thead th {\n",
              "        text-align: right;\n",
              "    }\n",
              "</style>\n",
              "<table border=\"1\" class=\"dataframe\">\n",
              "  <thead>\n",
              "    <tr style=\"text-align: right;\">\n",
              "      <th></th>\n",
              "      <th>0</th>\n",
              "    </tr>\n",
              "  </thead>\n",
              "  <tbody>\n",
              "    <tr>\n",
              "      <th>item_id</th>\n",
              "      <td>0</td>\n",
              "    </tr>\n",
              "    <tr>\n",
              "      <th>status</th>\n",
              "      <td>14</td>\n",
              "    </tr>\n",
              "    <tr>\n",
              "      <th>created_at</th>\n",
              "      <td>0</td>\n",
              "    </tr>\n",
              "    <tr>\n",
              "      <th>sku</th>\n",
              "      <td>3</td>\n",
              "    </tr>\n",
              "    <tr>\n",
              "      <th>price</th>\n",
              "      <td>0</td>\n",
              "    </tr>\n",
              "    <tr>\n",
              "      <th>qty_ordered</th>\n",
              "      <td>0</td>\n",
              "    </tr>\n",
              "    <tr>\n",
              "      <th>grand_total</th>\n",
              "      <td>0</td>\n",
              "    </tr>\n",
              "    <tr>\n",
              "      <th>increment_id</th>\n",
              "      <td>0</td>\n",
              "    </tr>\n",
              "    <tr>\n",
              "      <th>category_name_1</th>\n",
              "      <td>163</td>\n",
              "    </tr>\n",
              "    <tr>\n",
              "      <th>sales_commission_code</th>\n",
              "      <td>133385</td>\n",
              "    </tr>\n",
              "    <tr>\n",
              "      <th>discount_amount</th>\n",
              "      <td>0</td>\n",
              "    </tr>\n",
              "    <tr>\n",
              "      <th>payment_method</th>\n",
              "      <td>0</td>\n",
              "    </tr>\n",
              "    <tr>\n",
              "      <th>Working Date</th>\n",
              "      <td>0</td>\n",
              "    </tr>\n",
              "    <tr>\n",
              "      <th>BI Status</th>\n",
              "      <td>0</td>\n",
              "    </tr>\n",
              "    <tr>\n",
              "      <th>MV</th>\n",
              "      <td>0</td>\n",
              "    </tr>\n",
              "    <tr>\n",
              "      <th>Year</th>\n",
              "      <td>0</td>\n",
              "    </tr>\n",
              "    <tr>\n",
              "      <th>Month</th>\n",
              "      <td>0</td>\n",
              "    </tr>\n",
              "    <tr>\n",
              "      <th>Customer Since</th>\n",
              "      <td>0</td>\n",
              "    </tr>\n",
              "    <tr>\n",
              "      <th>M-Y</th>\n",
              "      <td>0</td>\n",
              "    </tr>\n",
              "    <tr>\n",
              "      <th>FY</th>\n",
              "      <td>0</td>\n",
              "    </tr>\n",
              "    <tr>\n",
              "      <th>Customer ID</th>\n",
              "      <td>0</td>\n",
              "    </tr>\n",
              "  </tbody>\n",
              "</table>\n",
              "</div><br><label><b>dtype:</b> int64</label>"
            ]
          },
          "metadata": {},
          "execution_count": 28
        }
      ]
    },
    {
      "cell_type": "code",
      "source": [
        "df_good['sales_commission_code']"
      ],
      "metadata": {
        "colab": {
          "base_uri": "https://localhost:8080/",
          "height": 458
        },
        "id": "BoTCr7ThYLN1",
        "outputId": "85c016ca-ef04-41b1-b577-d0ca089af1c2"
      },
      "execution_count": 29,
      "outputs": [
        {
          "output_type": "execute_result",
          "data": {
            "text/plain": [
              "0                  \\N\n",
              "1                  \\N\n",
              "2                  \\N\n",
              "3         R-FSD-52352\n",
              "4                  \\N\n",
              "             ...     \n",
              "584519            NaN\n",
              "584520            NaN\n",
              "584521            NaN\n",
              "584522            NaN\n",
              "584523            NaN\n",
              "Name: sales_commission_code, Length: 572739, dtype: object"
            ],
            "text/html": [
              "<div>\n",
              "<style scoped>\n",
              "    .dataframe tbody tr th:only-of-type {\n",
              "        vertical-align: middle;\n",
              "    }\n",
              "\n",
              "    .dataframe tbody tr th {\n",
              "        vertical-align: top;\n",
              "    }\n",
              "\n",
              "    .dataframe thead th {\n",
              "        text-align: right;\n",
              "    }\n",
              "</style>\n",
              "<table border=\"1\" class=\"dataframe\">\n",
              "  <thead>\n",
              "    <tr style=\"text-align: right;\">\n",
              "      <th></th>\n",
              "      <th>sales_commission_code</th>\n",
              "    </tr>\n",
              "  </thead>\n",
              "  <tbody>\n",
              "    <tr>\n",
              "      <th>0</th>\n",
              "      <td>\\N</td>\n",
              "    </tr>\n",
              "    <tr>\n",
              "      <th>1</th>\n",
              "      <td>\\N</td>\n",
              "    </tr>\n",
              "    <tr>\n",
              "      <th>2</th>\n",
              "      <td>\\N</td>\n",
              "    </tr>\n",
              "    <tr>\n",
              "      <th>3</th>\n",
              "      <td>R-FSD-52352</td>\n",
              "    </tr>\n",
              "    <tr>\n",
              "      <th>4</th>\n",
              "      <td>\\N</td>\n",
              "    </tr>\n",
              "    <tr>\n",
              "      <th>...</th>\n",
              "      <td>...</td>\n",
              "    </tr>\n",
              "    <tr>\n",
              "      <th>584519</th>\n",
              "      <td>NaN</td>\n",
              "    </tr>\n",
              "    <tr>\n",
              "      <th>584520</th>\n",
              "      <td>NaN</td>\n",
              "    </tr>\n",
              "    <tr>\n",
              "      <th>584521</th>\n",
              "      <td>NaN</td>\n",
              "    </tr>\n",
              "    <tr>\n",
              "      <th>584522</th>\n",
              "      <td>NaN</td>\n",
              "    </tr>\n",
              "    <tr>\n",
              "      <th>584523</th>\n",
              "      <td>NaN</td>\n",
              "    </tr>\n",
              "  </tbody>\n",
              "</table>\n",
              "<p>572739 rows × 1 columns</p>\n",
              "</div><br><label><b>dtype:</b> object</label>"
            ]
          },
          "metadata": {},
          "execution_count": 29
        }
      ]
    },
    {
      "cell_type": "markdown",
      "source": [
        "______________________________"
      ],
      "metadata": {
        "id": "SX78-Hv_nQZO"
      }
    },
    {
      "cell_type": "markdown",
      "source": [
        "**Fill categorical nulls sensibly**"
      ],
      "metadata": {
        "id": "gX_YUCG3nR7d"
      }
    },
    {
      "cell_type": "code",
      "source": [
        "category_cols = df.select_dtypes(include=['object']).columns\n",
        "category_cols"
      ],
      "metadata": {
        "colab": {
          "base_uri": "https://localhost:8080/"
        },
        "id": "N7emWesynpf7",
        "outputId": "dbacda98-0a2e-41a5-95fc-d06baee0dc1c"
      },
      "execution_count": 30,
      "outputs": [
        {
          "output_type": "execute_result",
          "data": {
            "text/plain": [
              "Index(['status', 'created_at', 'sku', 'increment_id', 'category_name_1',\n",
              "       'sales_commission_code', 'payment_method', 'Working Date', 'BI Status',\n",
              "       'MV', 'Customer Since', 'M-Y', 'FY'],\n",
              "      dtype='object')"
            ]
          },
          "metadata": {},
          "execution_count": 30
        }
      ]
    },
    {
      "cell_type": "code",
      "source": [
        "cat_cols = ['category_name_1','payment_method','status','sales_commission_code','MV','BI Status','sku']\n",
        "for c in cat_cols:\n",
        "  if c in df_good.columns:\n",
        "    df_good[c] = df_good[c].fillna('Unkown').astype('category')"
      ],
      "metadata": {
        "id": "InbAjuDXYn5f"
      },
      "execution_count": 31,
      "outputs": []
    },
    {
      "cell_type": "code",
      "source": [
        "if 'sales_commission_code' in df_good.columns:\n",
        "  df_good['has_commission_code'] = (df['sales_commission_code'] != 'Unkown').astype('int8')"
      ],
      "metadata": {
        "id": "WhuKOLqjqLVA"
      },
      "execution_count": 32,
      "outputs": []
    },
    {
      "cell_type": "code",
      "source": [
        "result = {}\n",
        "for c in cat_cols:\n",
        "  if c in df_good.columns:\n",
        "    result[c] = df_good[c].nunique()"
      ],
      "metadata": {
        "id": "kRqNmr3U1z65"
      },
      "execution_count": 33,
      "outputs": []
    },
    {
      "cell_type": "code",
      "source": [
        "result"
      ],
      "metadata": {
        "colab": {
          "base_uri": "https://localhost:8080/"
        },
        "id": "Ru4JIIC32gQI",
        "outputId": "b5daaeee-bd50-4478-ed07-7be006aa7916"
      },
      "execution_count": 34,
      "outputs": [
        {
          "output_type": "execute_result",
          "data": {
            "text/plain": [
              "{'category_name_1': 17,\n",
              " 'payment_method': 17,\n",
              " 'status': 17,\n",
              " 'sales_commission_code': 7054,\n",
              " 'MV': 9666,\n",
              " 'BI Status': 4,\n",
              " 'sku': 83081}"
            ]
          },
          "metadata": {},
          "execution_count": 34
        }
      ]
    },
    {
      "cell_type": "markdown",
      "source": [
        "____________________________"
      ],
      "metadata": {
        "id": "YuaCA2YQ6Mep"
      }
    },
    {
      "cell_type": "markdown",
      "source": [
        "**impute price using sku median, only if sku present**"
      ],
      "metadata": {
        "id": "GHySd9d66Ki6"
      }
    },
    {
      "cell_type": "code",
      "source": [
        "if 'sku' in df_good.columns:\n",
        "  sku_med = df_good.groupby('sku')['price'].median()\n",
        "  missing_price_mask = df_good['price'].isnull() & df_good['sku'].notnull()\n",
        "  print(\"Missing price rows with sku:\", missing_price_mask.sum())"
      ],
      "metadata": {
        "id": "_L9dI7lw2hFr",
        "colab": {
          "base_uri": "https://localhost:8080/"
        },
        "outputId": "6c5af97f-4adc-4ca7-a617-d65dfd48649e"
      },
      "execution_count": 35,
      "outputs": [
        {
          "output_type": "stream",
          "name": "stdout",
          "text": [
            "Missing price rows with sku: 0\n"
          ]
        },
        {
          "output_type": "stream",
          "name": "stderr",
          "text": [
            "/tmp/ipython-input-3925137994.py:2: FutureWarning: The default of observed=False is deprecated and will be changed to True in a future version of pandas. Pass observed=False to retain current behavior or observed=True to adopt the future default and silence this warning.\n",
            "  sku_med = df_good.groupby('sku')['price'].median()\n"
          ]
        }
      ]
    },
    {
      "cell_type": "code",
      "source": [
        "df_good = df_good.dropna(subset=['price','grand_total'])\n",
        "print(\"After impute and drop: \", df_good.shape)"
      ],
      "metadata": {
        "colab": {
          "base_uri": "https://localhost:8080/"
        },
        "id": "hlzq-qTK2HzT",
        "outputId": "e588bcf3-f4ba-4f65-9938-05e242103d03"
      },
      "execution_count": 36,
      "outputs": [
        {
          "output_type": "stream",
          "name": "stdout",
          "text": [
            "After impute and drop:  (572739, 22)\n"
          ]
        }
      ]
    },
    {
      "cell_type": "markdown",
      "source": [
        "______________________________"
      ],
      "metadata": {
        "id": "7XI4z9wEIGVS"
      }
    },
    {
      "cell_type": "markdown",
      "source": [
        "**Visualize distributions, check skew and extreme values**"
      ],
      "metadata": {
        "id": "NRMNKaP7IHdZ"
      }
    },
    {
      "cell_type": "code",
      "source": [
        "plt.figure(figsize=(8,4))\n",
        "sns.histplot(df['price'],bins=100)\n",
        "plt.title(\"Pirce Distribution\")\n",
        "plt.show()\n",
        "\n",
        "plt.figure(figsize=(8,4))\n",
        "sns.histplot(np.log1p(df['price']), bins=100,kde=True)\n",
        "plt.title(\"Log Transformed Price Distribution\")\n",
        "plt.show()"
      ],
      "metadata": {
        "colab": {
          "base_uri": "https://localhost:8080/",
          "height": 803
        },
        "id": "kyp_N6ENIAMV",
        "outputId": "85883632-1d67-4ee4-f4fa-ad988b138fc5"
      },
      "execution_count": 37,
      "outputs": [
        {
          "output_type": "display_data",
          "data": {
            "text/plain": [
              "<Figure size 800x400 with 1 Axes>"
            ],
            "image/png": "[encoded data removed]"
          },
          "metadata": {}
        },
        {
          "output_type": "display_data",
          "data": {
            "text/plain": [
              "<Figure size 800x400 with 1 Axes>"
            ],
            "image/png": "[encoded data removed]"
          },
          "metadata": {}
        }
      ]
    },
    {
      "cell_type": "code",
      "source": [
        "for c in ['qty_ordered','price','grand_total']:\n",
        "    if c in df_good.columns:\n",
        "        print(c, \"99th percentile:\", df_good[c].quantile(0.99), \"max:\", df_good[c].max())"
      ],
      "metadata": {
        "colab": {
          "base_uri": "https://localhost:8080/"
        },
        "id": "EVnJCRYlJ5yc",
        "outputId": "d3c8868b-8bcb-4402-e3fd-1932a53f5b70"
      },
      "execution_count": 38,
      "outputs": [
        {
          "output_type": "stream",
          "name": "stdout",
          "text": [
            "qty_ordered 99th percentile: 5.0 max: 1000.0\n",
            "price 99th percentile: 83770.0 max: 1012625.875\n",
            "grand_total 99th percentile: 90700.0 max: 17888000.0\n"
          ]
        }
      ]
    },
    {
      "cell_type": "code",
      "source": [
        "def cap_percentile(col, low=0.01, high=0.99):\n",
        "  lo = col.quantile(low)\n",
        "  hi = col.quantile(high)\n",
        "  return col.clip(lower=lo, upper=hi)\n",
        "\n",
        "for c in ['price','grand_total','qty_ordered','discount_amount']:\n",
        "  df_good[c+'cap'] = cap_percentile(df_good[c])\n",
        "  df_good['Log'+c] = np.log1p(df_good[c])"
      ],
      "metadata": {
        "id": "PJ-LifmLLHUk",
        "colab": {
          "base_uri": "https://localhost:8080/"
        },
        "outputId": "714439cd-d2ed-402e-8ef2-292cae730bde"
      },
      "execution_count": 39,
      "outputs": [
        {
          "output_type": "stream",
          "name": "stderr",
          "text": [
            "/usr/local/lib/python3.12/dist-packages/pandas/core/arraylike.py:399: RuntimeWarning: invalid value encountered in log1p\n",
            "  result = getattr(ufunc, method)(*inputs, **kwargs)\n"
          ]
        }
      ]
    },
    {
      "cell_type": "code",
      "source": [
        "print(\"Price cap Min \", df_good['pricecap'].min(),\" Max \",df_good['pricecap'].max())"
      ],
      "metadata": {
        "colab": {
          "base_uri": "https://localhost:8080/"
        },
        "id": "UNmBJ6JS6pGe",
        "outputId": "c1382127-e351-4a99-992e-3b79e8ea77d0"
      },
      "execution_count": 40,
      "outputs": [
        {
          "output_type": "stream",
          "name": "stdout",
          "text": [
            "Price cap Min  27.0  Max  83770.0\n"
          ]
        }
      ]
    },
    {
      "cell_type": "code",
      "source": [
        "df_good.columns"
      ],
      "metadata": {
        "colab": {
          "base_uri": "https://localhost:8080/"
        },
        "id": "1ArAUzvIDDw_",
        "outputId": "5dee5a10-96d4-4508-cf6f-ed2d32a6bc23"
      },
      "execution_count": 41,
      "outputs": [
        {
          "output_type": "execute_result",
          "data": {
            "text/plain": [
              "Index(['item_id', 'status', 'created_at', 'sku', 'price', 'qty_ordered',\n",
              "       'grand_total', 'increment_id', 'category_name_1',\n",
              "       'sales_commission_code', 'discount_amount', 'payment_method',\n",
              "       'Working Date', 'BI Status', 'MV', 'Year', 'Month', 'Customer Since',\n",
              "       'M-Y', 'FY', 'Customer ID', 'has_commission_code', 'pricecap',\n",
              "       'Logprice', 'grand_totalcap', 'Loggrand_total', 'qty_orderedcap',\n",
              "       'Logqty_ordered', 'discount_amountcap', 'Logdiscount_amount'],\n",
              "      dtype='object')"
            ]
          },
          "metadata": {},
          "execution_count": 41
        }
      ]
    },
    {
      "cell_type": "code",
      "source": [
        "df_good['order_date'] = pd.to_datetime(df_good['created_at'], errors='coerce')\n",
        "df_good['order_month'] = df_good['order_date'].dt.to_period('M').astype('str')\n",
        "df_good['AOV'] = df_good['grand_total'] / df_good['qty_ordered']"
      ],
      "metadata": {
        "id": "q_TBg6bp61Rj"
      },
      "execution_count": 42,
      "outputs": []
    },
    {
      "cell_type": "code",
      "source": [
        "cust = df_good.groupby('Customer ID').agg(\n",
        "    last_order = ('order_date','max'),\n",
        "    orders = ('increment_id','nunique'),\n",
        "    total_spend = ('grand_total','sum'),\n",
        "    avg_order_value = ('AOV','mean')\n",
        ").reset_index()"
      ],
      "metadata": {
        "id": "InZCkABbBt7c"
      },
      "execution_count": 43,
      "outputs": []
    },
    {
      "cell_type": "code",
      "source": [
        "current_date = df_good['order_date'].max()\n",
        "cust['recency_days'] = (current_date - cust['last_order']).dt.days\n",
        "cust = cust.sort_values('total_spend',ascending=False)\n",
        "cust.head()"
      ],
      "metadata": {
        "colab": {
          "base_uri": "https://localhost:8080/",
          "height": 206
        },
        "id": "r9wcA1WK8xR0",
        "outputId": "9d2c4463-ca9b-4431-fead-a6f013459d6a"
      },
      "execution_count": 44,
      "outputs": [
        {
          "output_type": "execute_result",
          "data": {
            "text/plain": [
              "        Customer ID last_order  orders  total_spend  avg_order_value  \\\n",
              "4983         5032.0 2017-11-24      37   72150384.0      8493.732422   \n",
              "50180       50387.0 2017-06-09       1   35776000.0     17888.000000   \n",
              "110487     111057.0 2018-07-22      75   31338184.0    196851.921875   \n",
              "108492     109038.0 2018-07-20     100   28341358.0    138590.343750   \n",
              "109657     110215.0 2018-08-18      94   21969066.0    128594.171875   \n",
              "\n",
              "        recency_days  \n",
              "4983             277  \n",
              "50180            445  \n",
              "110487            37  \n",
              "108492            39  \n",
              "109657            10  "
            ],
            "text/html": [
              "\n",
              "  <div id=\"df-35691e9b-6e1c-4ce1-931e-637148df2f72\" class=\"colab-df-container\">\n",
              "    <div>\n",
              "<style scoped>\n",
              "    .dataframe tbody tr th:only-of-type {\n",
              "        vertical-align: middle;\n",
              "    }\n",
              "\n",
              "    .dataframe tbody tr th {\n",
              "        vertical-align: top;\n",
              "    }\n",
              "\n",
              "    .dataframe thead th {\n",
              "        text-align: right;\n",
              "    }\n",
              "</style>\n",
              "<table border=\"1\" class=\"dataframe\">\n",
              "  <thead>\n",
              "    <tr style=\"text-align: right;\">\n",
              "      <th></th>\n",
              "      <th>Customer ID</th>\n",
              "      <th>last_order</th>\n",
              "      <th>orders</th>\n",
              "      <th>total_spend</th>\n",
              "      <th>avg_order_value</th>\n",
              "      <th>recency_days</th>\n",
              "    </tr>\n",
              "  </thead>\n",
              "  <tbody>\n",
              "    <tr>\n",
              "      <th>4983</th>\n",
              "      <td>5032.0</td>\n",
              "      <td>2017-11-24</td>\n",
              "      <td>37</td>\n",
              "      <td>72150384.0</td>\n",
              "      <td>8493.732422</td>\n",
              "      <td>277</td>\n",
              "    </tr>\n",
              "    <tr>\n",
              "      <th>50180</th>\n",
              "      <td>50387.0</td>\n",
              "      <td>2017-06-09</td>\n",
              "      <td>1</td>\n",
              "      <td>35776000.0</td>\n",
              "      <td>17888.000000</td>\n",
              "      <td>445</td>\n",
              "    </tr>\n",
              "    <tr>\n",
              "      <th>110487</th>\n",
              "      <td>111057.0</td>\n",
              "      <td>2018-07-22</td>\n",
              "      <td>75</td>\n",
              "      <td>31338184.0</td>\n",
              "      <td>196851.921875</td>\n",
              "      <td>37</td>\n",
              "    </tr>\n",
              "    <tr>\n",
              "      <th>108492</th>\n",
              "      <td>109038.0</td>\n",
              "      <td>2018-07-20</td>\n",
              "      <td>100</td>\n",
              "      <td>28341358.0</td>\n",
              "      <td>138590.343750</td>\n",
              "      <td>39</td>\n",
              "    </tr>\n",
              "    <tr>\n",
              "      <th>109657</th>\n",
              "      <td>110215.0</td>\n",
              "      <td>2018-08-18</td>\n",
              "      <td>94</td>\n",
              "      <td>21969066.0</td>\n",
              "      <td>128594.171875</td>\n",
              "      <td>10</td>\n",
              "    </tr>\n",
              "  </tbody>\n",
              "</table>\n",
              "</div>\n",
              "    <div class=\"colab-df-buttons\">\n",
              "\n",
              "  <div class=\"colab-df-container\">\n",
              "    <button class=\"colab-df-convert\" onclick=\"convertToInteractive('df-35691e9b-6e1c-4ce1-931e-637148df2f72')\"\n",
              "            title=\"Convert this dataframe to an interactive table.\"\n",
              "            style=\"display:none;\">\n",
              "\n",
              "  <svg xmlns=\"http://www.w3.org/2000/svg\" height=\"24px\" viewBox=\"0 -960 960 960\">\n",
              "    <path d=\"M120-120v-720h720v720H120Zm60-500h600v-160H180v160Zm220 220h160v-160H400v160Zm0 220h160v-160H400v160ZM180-400h160v-160H180v160Zm440 0h160v-160H620v160ZM180-180h160v-160H180v160Zm440 0h160v-160H620v160Z\"/>\n",
              "  </svg>\n",
              "    </button>\n",
              "\n",
              "  <style>\n",
              "    .colab-df-container {\n",
              "      display:flex;\n",
              "      gap: 12px;\n",
              "    }\n",
              "\n",
              "    .colab-df-convert {\n",
              "      background-color: #E8F0FE;\n",
              "      border: none;\n",
              "      border-radius: 50%;\n",
              "      cursor: pointer;\n",
              "      display: none;\n",
              "      fill: #1967D2;\n",
              "      height: 32px;\n",
              "      padding: 0 0 0 0;\n",
              "      width: 32px;\n",
              "    }\n",
              "\n",
              "    .colab-df-convert:hover {\n",
              "      background-color: #E2EBFA;\n",
              "      box-shadow: 0px 1px 2px rgba(60, 64, 67, 0.3), 0px 1px 3px 1px rgba(60, 64, 67, 0.15);\n",
              "      fill: #174EA6;\n",
              "    }\n",
              "\n",
              "    .colab-df-buttons div {\n",
              "      margin-bottom: 4px;\n",
              "    }\n",
              "\n",
              "    [theme=dark] .colab-df-convert {\n",
              "      background-color: #3B4455;\n",
              "      fill: #D2E3FC;\n",
              "    }\n",
              "\n",
              "    [theme=dark] .colab-df-convert:hover {\n",
              "      background-color: #434B5C;\n",
              "      box-shadow: 0px 1px 3px 1px rgba(0, 0, 0, 0.15);\n",
              "      filter: drop-shadow(0px 1px 2px rgba(0, 0, 0, 0.3));\n",
              "      fill: #FFFFFF;\n",
              "    }\n",
              "  </style>\n",
              "\n",
              "    <script>\n",
              "      const buttonEl =\n",
              "        document.querySelector('#df-35691e9b-6e1c-4ce1-931e-637148df2f72 button.colab-df-convert');\n",
              "      buttonEl.style.display =\n",
              "        google.colab.kernel.accessAllowed ? 'block' : 'none';\n",
              "\n",
              "      async function convertToInteractive(key) {\n",
              "        const element = document.querySelector('#df-35691e9b-6e1c-4ce1-931e-637148df2f72');\n",
              "        const dataTable =\n",
              "          await google.colab.kernel.invokeFunction('convertToInteractive',\n",
              "                                                    [key], {});\n",
              "        if (!dataTable) return;\n",
              "\n",
              "        const docLinkHtml = 'Like what you see? Visit the ' +\n",
              "          '<a target=\"_blank\" href=https://colab.research.google.com/notebooks/data_table.ipynb>data table notebook</a>'\n",
              "          + ' to learn more about interactive tables.';\n",
              "        element.innerHTML = '';\n",
              "        dataTable['output_type'] = 'display_data';\n",
              "        await google.colab.output.renderOutput(dataTable, element);\n",
              "        const docLink = document.createElement('div');\n",
              "        docLink.innerHTML = docLinkHtml;\n",
              "        element.appendChild(docLink);\n",
              "      }\n",
              "    </script>\n",
              "  </div>\n",
              "\n",
              "\n",
              "    <div id=\"df-c6467366-0da2-43a2-86ad-3f948d199b08\">\n",
              "      <button class=\"colab-df-quickchart\" onclick=\"quickchart('df-c6467366-0da2-43a2-86ad-3f948d199b08')\"\n",
              "                title=\"Suggest charts\"\n",
              "                style=\"display:none;\">\n",
              "\n",
              "<svg xmlns=\"http://www.w3.org/2000/svg\" height=\"24px\"viewBox=\"0 0 24 24\"\n",
              "     width=\"24px\">\n",
              "    <g>\n",
              "        <path d=\"M19 3H5c-1.1 0-2 .9-2 2v14c0 1.1.9 2 2 2h14c1.1 0 2-.9 2-2V5c0-1.1-.9-2-2-2zM9 17H7v-7h2v7zm4 0h-2V7h2v10zm4 0h-2v-4h2v4z\"/>\n",
              "    </g>\n",
              "</svg>\n",
              "      </button>\n",
              "\n",
              "<style>\n",
              "  .colab-df-quickchart {\n",
              "      --bg-color: #E8F0FE;\n",
              "      --fill-color: #1967D2;\n",
              "      --hover-bg-color: #E2EBFA;\n",
              "      --hover-fill-color: #174EA6;\n",
              "      --disabled-fill-color: #AAA;\n",
              "      --disabled-bg-color: #DDD;\n",
              "  }\n",
              "\n",
              "  [theme=dark] .colab-df-quickchart {\n",
              "      --bg-color: #3B4455;\n",
              "      --fill-color: #D2E3FC;\n",
              "      --hover-bg-color: #434B5C;\n",
              "      --hover-fill-color: #FFFFFF;\n",
              "      --disabled-bg-color: #3B4455;\n",
              "      --disabled-fill-color: #666;\n",
              "  }\n",
              "\n",
              "  .colab-df-quickchart {\n",
              "    background-color: var(--bg-color);\n",
              "    border: none;\n",
              "    border-radius: 50%;\n",
              "    cursor: pointer;\n",
              "    display: none;\n",
              "    fill: var(--fill-color);\n",
              "    height: 32px;\n",
              "    padding: 0;\n",
              "    width: 32px;\n",
              "  }\n",
              "\n",
              "  .colab-df-quickchart:hover {\n",
              "    background-color: var(--hover-bg-color);\n",
              "    box-shadow: 0 1px 2px rgba(60, 64, 67, 0.3), 0 1px 3px 1px rgba(60, 64, 67, 0.15);\n",
              "    fill: var(--button-hover-fill-color);\n",
              "  }\n",
              "\n",
              "  .colab-df-quickchart-complete:disabled,\n",
              "  .colab-df-quickchart-complete:disabled:hover {\n",
              "    background-color: var(--disabled-bg-color);\n",
              "    fill: var(--disabled-fill-color);\n",
              "    box-shadow: none;\n",
              "  }\n",
              "\n",
              "  .colab-df-spinner {\n",
              "    border: 2px solid var(--fill-color);\n",
              "    border-color: transparent;\n",
              "    border-bottom-color: var(--fill-color);\n",
              "    animation:\n",
              "      spin 1s steps(1) infinite;\n",
              "  }\n",
              "\n",
              "  @keyframes spin {\n",
              "    0% {\n",
              "      border-color: transparent;\n",
              "      border-bottom-color: var(--fill-color);\n",
              "      border-left-color: var(--fill-color);\n",
              "    }\n",
              "    20% {\n",
              "      border-color: transparent;\n",
              "      border-left-color: var(--fill-color);\n",
              "      border-top-color: var(--fill-color);\n",
              "    }\n",
              "    30% {\n",
              "      border-color: transparent;\n",
              "      border-left-color: var(--fill-color);\n",
              "      border-top-color: var(--fill-color);\n",
              "      border-right-color: var(--fill-color);\n",
              "    }\n",
              "    40% {\n",
              "      border-color: transparent;\n",
              "      border-right-color: var(--fill-color);\n",
              "      border-top-color: var(--fill-color);\n",
              "    }\n",
              "    60% {\n",
              "      border-color: transparent;\n",
              "      border-right-color: var(--fill-color);\n",
              "    }\n",
              "    80% {\n",
              "      border-color: transparent;\n",
              "      border-right-color: var(--fill-color);\n",
              "      border-bottom-color: var(--fill-color);\n",
              "    }\n",
              "    90% {\n",
              "      border-color: transparent;\n",
              "      border-bottom-color: var(--fill-color);\n",
              "    }\n",
              "  }\n",
              "</style>\n",
              "\n",
              "      <script>\n",
              "        async function quickchart(key) {\n",
              "          const quickchartButtonEl =\n",
              "            document.querySelector('#' + key + ' button');\n",
              "          quickchartButtonEl.disabled = true;  // To prevent multiple clicks.\n",
              "          quickchartButtonEl.classList.add('colab-df-spinner');\n",
              "          try {\n",
              "            const charts = await google.colab.kernel.invokeFunction(\n",
              "                'suggestCharts', [key], {});\n",
              "          } catch (error) {\n",
              "            console.error('Error during call to suggestCharts:', error);\n",
              "          }\n",
              "          quickchartButtonEl.classList.remove('colab-df-spinner');\n",
              "          quickchartButtonEl.classList.add('colab-df-quickchart-complete');\n",
              "        }\n",
              "        (() => {\n",
              "          let quickchartButtonEl =\n",
              "            document.querySelector('#df-c6467366-0da2-43a2-86ad-3f948d199b08 button');\n",
              "          quickchartButtonEl.style.display =\n",
              "            google.colab.kernel.accessAllowed ? 'block' : 'none';\n",
              "        })();\n",
              "      </script>\n",
              "    </div>\n",
              "\n",
              "    </div>\n",
              "  </div>\n"
            ],
            "application/vnd.google.colaboratory.intrinsic+json": {
              "type": "dataframe",
              "variable_name": "cust"
            }
          },
          "metadata": {},
          "execution_count": 44
        }
      ]
    },
    {
      "cell_type": "markdown",
      "source": [
        "______________________________________"
      ],
      "metadata": {
        "id": "9Fiqb4BdDrdJ"
      }
    },
    {
      "cell_type": "markdown",
      "source": [
        "**sampling for prototyping, final saving**"
      ],
      "metadata": {
        "id": "AAhUC0uFDtB_"
      }
    },
    {
      "cell_type": "code",
      "source": [
        "if 'increment_id' in df_good.columns:\n",
        "  df_good['increment_id'] = df_good['increment_id'].astype('str')"
      ],
      "metadata": {
        "id": "0Vl-Ev9RFJNH"
      },
      "execution_count": 45,
      "outputs": []
    },
    {
      "cell_type": "code",
      "source": [
        "if len(df_good)>100000:\n",
        "  sample = df_good.sample(n=100000, random_state=42)\n",
        "else:\n",
        "  sample = df_good.copy()"
      ],
      "metadata": {
        "id": "XOp9IKtnBBPy"
      },
      "execution_count": 46,
      "outputs": []
    },
    {
      "cell_type": "code",
      "source": [],
      "metadata": {
        "id": "_UYgCqYEkWB4"
      },
      "execution_count": 46,
      "outputs": []
    },
    {
      "cell_type": "code",
      "source": [
        "df_good.to_parquet(\"ecom_cleaned.parquet\", index=False)\n",
        "sample.to_parquet(\"ecom_sample.parquet\",index=False)\n",
        "print(\"Saved cleaned dataset\")"
      ],
      "metadata": {
        "colab": {
          "base_uri": "https://localhost:8080/"
        },
        "id": "l5mZ1LAmDk_z",
        "outputId": "6fbaf153-5bbe-4698-e642-7dbe1a43528a"
      },
      "execution_count": 47,
      "outputs": [
        {
          "output_type": "stream",
          "name": "stdout",
          "text": [
            "Saved cleaned dataset\n"
          ]
        }
      ]
    },
    {
      "cell_type": "code",
      "source": [
        "summary = {\n",
        "    'org_rows': len(df),\n",
        "    'usable': len(df_good),\n",
        "    'unique_cust': df_good['Customer ID'].nunique() if 'Customer ID' in df_good.columns else None,\n",
        "    'columns_kept': df_good.columns.tolist()\n",
        "\n",
        "}\n",
        "\n"
      ],
      "metadata": {
        "id": "0RFmQO3HEq90"
      },
      "execution_count": 48,
      "outputs": []
    },
    {
      "cell_type": "code",
      "source": [
        "summary"
      ],
      "metadata": {
        "id": "mKWvnqILHz99",
        "colab": {
          "base_uri": "https://localhost:8080/"
        },
        "outputId": "0d026fd3-d257-459b-8a51-a05ca0bdbb61"
      },
      "execution_count": 49,
      "outputs": [
        {
          "output_type": "execute_result",
          "data": {
            "text/plain": [
              "{'org_rows': 1048575,\n",
              " 'usable': 572739,\n",
              " 'unique_cust': 114739,\n",
              " 'columns_kept': ['item_id',\n",
              "  'status',\n",
              "  'created_at',\n",
              "  'sku',\n",
              "  'price',\n",
              "  'qty_ordered',\n",
              "  'grand_total',\n",
              "  'increment_id',\n",
              "  'category_name_1',\n",
              "  'sales_commission_code',\n",
              "  'discount_amount',\n",
              "  'payment_method',\n",
              "  'Working Date',\n",
              "  'BI Status',\n",
              "  'MV',\n",
              "  'Year',\n",
              "  'Month',\n",
              "  'Customer Since',\n",
              "  'M-Y',\n",
              "  'FY',\n",
              "  'Customer ID',\n",
              "  'has_commission_code',\n",
              "  'pricecap',\n",
              "  'Logprice',\n",
              "  'grand_totalcap',\n",
              "  'Loggrand_total',\n",
              "  'qty_orderedcap',\n",
              "  'Logqty_ordered',\n",
              "  'discount_amountcap',\n",
              "  'Logdiscount_amount',\n",
              "  'order_date',\n",
              "  'order_month',\n",
              "  'AOV']}"
            ]
          },
          "metadata": {},
          "execution_count": 49
        }
      ]
    },
    {
      "cell_type": "markdown",
      "source": [
        "**Exploratory Data Analysis (EDA)**"
      ],
      "metadata": {
        "id": "FJpqMcnTLefW"
      }
    },
    {
      "cell_type": "code",
      "source": [
        "df_good.groupby('order_month')['grand_total'].sum().plot(figsize=(8,4), title=\"Monthly Sales\")\n"
      ],
      "metadata": {
        "colab": {
          "base_uri": "https://localhost:8080/",
          "height": 428
        },
        "id": "eFmHfy7HNXOp",
        "outputId": "d9980cef-99f3-479a-d343-294df955eef3"
      },
      "execution_count": 50,
      "outputs": [
        {
          "output_type": "execute_result",
          "data": {
            "text/plain": [
              "<Axes: title={'center': 'Monthly Sales'}, xlabel='order_month'>"
            ]
          },
          "metadata": {},
          "execution_count": 50
        },
        {
          "output_type": "display_data",
          "data": {
            "text/plain": [
              "<Figure size 800x400 with 1 Axes>"
            ],
            "image/png": "[encoded data removed]"
          },
          "metadata": {}
        }
      ]
    },
    {
      "cell_type": "code",
      "source": [
        "df_good.groupby('category_name_1')['grand_total'].sum().sort_values(ascending=False).head(10).plot(kind='bar', title=\"Top Categories by Sales\")\n"
      ],
      "metadata": {
        "colab": {
          "base_uri": "https://localhost:8080/",
          "height": 669
        },
        "id": "AXLH3Ot7Nati",
        "outputId": "de8907df-edf4-4ad4-d1f4-cfc45cd2bc92"
      },
      "execution_count": 51,
      "outputs": [
        {
          "output_type": "stream",
          "name": "stderr",
          "text": [
            "/tmp/ipython-input-1613947359.py:1: FutureWarning: The default of observed=False is deprecated and will be changed to True in a future version of pandas. Pass observed=False to retain current behavior or observed=True to adopt the future default and silence this warning.\n",
            "  df_good.groupby('category_name_1')['grand_total'].sum().sort_values(ascending=False).head(10).plot(kind='bar', title=\"Top Categories by Sales\")\n"
          ]
        },
        {
          "output_type": "execute_result",
          "data": {
            "text/plain": [
              "<Axes: title={'center': 'Top Categories by Sales'}, xlabel='category_name_1'>"
            ]
          },
          "metadata": {},
          "execution_count": 51
        },
        {
          "output_type": "display_data",
          "data": {
            "text/plain": [
              "<Figure size 640x480 with 1 Axes>"
            ],
            "image/png": "[encoded data removed]"
          },
          "metadata": {}
        }
      ]
    },
    {
      "cell_type": "code",
      "source": [
        "df_good['payment_method'].value_counts().plot(kind='bar', title='Payment methods count')\n",
        "plt.show()\n"
      ],
      "metadata": {
        "colab": {
          "base_uri": "https://localhost:8080/",
          "height": 587
        },
        "id": "D88urssWK1LS",
        "outputId": "f8ac17ec-1a57-48d9-e93f-486597c5e526"
      },
      "execution_count": 52,
      "outputs": [
        {
          "output_type": "display_data",
          "data": {
            "text/plain": [
              "<Figure size 640x480 with 1 Axes>"
            ],
            "image/png": "[encoded data removed]"
          },
          "metadata": {}
        }
      ]
    },
    {
      "cell_type": "markdown",
      "source": [
        "**Feature Engineering**"
      ],
      "metadata": {
        "id": "W24O1h3yayz7"
      }
    },
    {
      "cell_type": "code",
      "source": [
        "from sklearn.preprocessing import LabelEncoder\n",
        "\n",
        "le = LabelEncoder()\n",
        "df_good['category_name_1'] = le.fit_transform(df_good[['category_name_1']])"
      ],
      "metadata": {
        "colab": {
          "base_uri": "https://localhost:8080/"
        },
        "id": "dsjIkR6LM0BI",
        "outputId": "1be1f70a-7b25-4701-f26b-9b43cfdf4435"
      },
      "execution_count": 53,
      "outputs": [
        {
          "output_type": "stream",
          "name": "stderr",
          "text": [
            "/usr/local/lib/python3.12/dist-packages/sklearn/preprocessing/_label.py:110: DataConversionWarning: A column-vector y was passed when a 1d array was expected. Please change the shape of y to (n_samples, ), for example using ravel().\n",
            "  y = column_or_1d(y, warn=True)\n"
          ]
        }
      ]
    },
    {
      "cell_type": "code",
      "source": [
        "from sklearn.preprocessing import StandardScaler\n",
        "\n",
        "scaler = StandardScaler()\n",
        "df_good[['price_scaled','grand_total_scaled']] = scaler.fit_transform(df_good[['price','grand_total']])"
      ],
      "metadata": {
        "id": "y2BWwB2BbHhD"
      },
      "execution_count": 54,
      "outputs": []
    },
    {
      "cell_type": "code",
      "source": [
        "from sklearn.model_selection import train_test_split\n",
        "from sklearn.ensemble import RandomForestRegressor\n",
        "from sklearn.metrics import r2_score, mean_absolute_error\n",
        "\n",
        "X = df_good[['price', 'qty_ordered', 'discount_amount']]\n",
        "y = df_good['grand_total']\n",
        "\n",
        "X_train, X_test, y_train, y_test = train_test_split(X, y, test_size=0.2, random_state=42)\n",
        "\n",
        "model = RandomForestRegressor()\n",
        "model.fit(X_train, y_train)\n",
        "pred = model.predict(X_test)\n",
        "\n",
        "print(\"R²:\", r2_score(y_test, pred))\n",
        "print(\"MAE:\", mean_absolute_error(y_test, pred))\n"
      ],
      "metadata": {
        "colab": {
          "base_uri": "https://localhost:8080/"
        },
        "id": "ArRXg9Akb0tY",
        "outputId": "032c2c1f-512a-463e-ad78-9ff3dc494c58"
      },
      "execution_count": 55,
      "outputs": [
        {
          "output_type": "stream",
          "name": "stdout",
          "text": [
            "R²: 0.9726788025273787\n",
            "MAE: 2186.1075464550895\n"
          ]
        }
      ]
    },
    {
      "cell_type": "code",
      "source": [
        "sns.set_style('whitegrid')\n",
        "sns.set_context('notebook', font_scale=0.5)\n",
        "\n",
        "sns.scatterplot(x=y_test, y=pred)\n",
        "plt.xscale('log')\n",
        "plt.yscale('log')\n",
        "plt.xlabel(\"Actual Grand Total (y_test)\")\n",
        "plt.ylabel(\"Predicted Grand Total (y_pred)\")\n",
        "plt.title(\"Predicted vs Actual Sales (Random Forest Model Accuracy Visualization)\")\n",
        "plt.plot([y_test.min(),y_test.max()], [y_test.min(),y_test.max()], 'r--',lw=2)\n",
        "plt.savefig('ecom_data_graph.png', dpi=300, bbox_inches='tight')\n",
        "plt.show()\n"
      ],
      "metadata": {
        "colab": {
          "base_uri": "https://localhost:8080/",
          "height": 462
        },
        "id": "7sAmjaGmQG7L",
        "outputId": "ce94e756-874f-435c-8cce-0807838f90f1"
      },
      "execution_count": 84,
      "outputs": [
        {
          "output_type": "display_data",
          "data": {
            "text/plain": [
              "<Figure size 640x480 with 1 Axes>"
            ],
            "image/png": "[encoded data removed]"
          },
          "metadata": {}
        }
      ]
    },
    {
      "cell_type": "code",
      "source": [
        "sns.set_style('whitegrid')\n",
        "sns.set_context('notebook', font_scale=0.5)\n",
        "\n",
        "sns.scatterplot(x=y_test, y=pred)\n",
        "plt.xscale('log')\n",
        "plt.yscale('log')\n",
        "plt.xlabel(\"Product's Price\")\n",
        "plt.ylabel(\"Grand Total\")\n",
        "plt.title(\"Predicted vs Actual Sales (Random Forest Model Accuracy Visualization)\")\n",
        "plt.plot([y_test.min(),y_test.max()], [y_test.min(),y_test.max()], 'r--',lw=2)\n",
        "plt.savefig('ecom_data_graph.png', dpi=300, bbox_inches='tight')\n",
        "plt.show()\n"
      ],
      "metadata": {
        "id": "Zcluk9IRRy46"
      },
      "execution_count": null,
      "outputs": []
    }
  ]
}